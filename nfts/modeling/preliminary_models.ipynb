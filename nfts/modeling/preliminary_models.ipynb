{
 "cells": [
  {
   "cell_type": "markdown",
   "id": "ecc7c5fa-74fc-4552-b0a9-67fefb20934e",
   "metadata": {},
   "source": [
    "#### Imports"
   ]
  },
  {
   "cell_type": "code",
   "execution_count": 1,
   "id": "072e7b1c-c1e1-440c-b21b-24ce299d216e",
   "metadata": {},
   "outputs": [],
   "source": [
    "import pandas as pd\n",
    "\n",
    "from sklearn.model_selection import train_test_split\n",
    "from sklearn.preprocessing import StandardScaler\n",
    "from sklearn.pipeline import Pipeline\n",
    "from sklearn.model_selection import GridSearchCV\n",
    "\n",
    "from sklearn.linear_model import LinearRegression\n",
    "from sklearn.neighbors import KNeighborsRegressor\n",
    "from sklearn.tree import DecisionTreeRegressor\n",
    "from sklearn.ensemble import BaggingRegressor\n",
    "from sklearn.ensemble import RandomForestRegressor\n",
    "from sklearn.ensemble import AdaBoostRegressor\n",
    "from sklearn.svm import LinearSVR\n",
    "from sklearn.svm import SVR\n",
    "\n",
    "from tensorflow.keras.models import Sequential\n",
    "from tensorflow.keras.layers import Dense, Dropout, BatchNormalization\n",
    "from tensorflow.keras.regularizers import l1, l2, l1_l2"
   ]
  },
  {
   "cell_type": "code",
   "execution_count": 2,
   "id": "886a8f65-3417-4a3d-8fe3-4fccfc1605ca",
   "metadata": {},
   "outputs": [
    {
     "data": {
      "text/html": [
       "<div>\n",
       "<style scoped>\n",
       "    .dataframe tbody tr th:only-of-type {\n",
       "        vertical-align: middle;\n",
       "    }\n",
       "\n",
       "    .dataframe tbody tr th {\n",
       "        vertical-align: top;\n",
       "    }\n",
       "\n",
       "    .dataframe thead th {\n",
       "        text-align: right;\n",
       "    }\n",
       "</style>\n",
       "<table border=\"1\" class=\"dataframe\">\n",
       "  <thead>\n",
       "    <tr style=\"text-align: right;\">\n",
       "      <th></th>\n",
       "      <th>date</th>\n",
       "      <th>token_id</th>\n",
       "      <th>payment</th>\n",
       "      <th>buyer</th>\n",
       "      <th>seller</th>\n",
       "      <th>price</th>\n",
       "      <th>priceUsd</th>\n",
       "      <th>1/1</th>\n",
       "      <th>4:20 watch</th>\n",
       "      <th>background</th>\n",
       "      <th>...</th>\n",
       "      <th>hat_over_headphones_score</th>\n",
       "      <th>hat_under_headphones_score</th>\n",
       "      <th>headphones_score</th>\n",
       "      <th>long_hair_score</th>\n",
       "      <th>mouth_score</th>\n",
       "      <th>shirt_score</th>\n",
       "      <th>short_hair_score</th>\n",
       "      <th>smoke_score</th>\n",
       "      <th>type_score</th>\n",
       "      <th>rarity_score</th>\n",
       "    </tr>\n",
       "  </thead>\n",
       "  <tbody>\n",
       "    <tr>\n",
       "      <th>0</th>\n",
       "      <td>2022-02-19 05:46:20+00:00</td>\n",
       "      <td>37</td>\n",
       "      <td>ETH</td>\n",
       "      <td>0x6365398036d4ef045254fce2e525ac59760b186b</td>\n",
       "      <td>0xe6fe14a30631b22d3f78d9ec7869eb62d6e73daa</td>\n",
       "      <td>3.30</td>\n",
       "      <td>8370.462853</td>\n",
       "      <td>0</td>\n",
       "      <td>sub red</td>\n",
       "      <td>blue</td>\n",
       "      <td>...</td>\n",
       "      <td>0.0</td>\n",
       "      <td>0.0</td>\n",
       "      <td>36.496350</td>\n",
       "      <td>0.0</td>\n",
       "      <td>4.844961</td>\n",
       "      <td>33.112583</td>\n",
       "      <td>28.735632</td>\n",
       "      <td>0.000000</td>\n",
       "      <td>1.690331</td>\n",
       "      <td>117.931694</td>\n",
       "    </tr>\n",
       "    <tr>\n",
       "      <th>1</th>\n",
       "      <td>2022-02-24 02:15:15+00:00</td>\n",
       "      <td>37</td>\n",
       "      <td>ETH</td>\n",
       "      <td>0xcb4652bb0396880c3b2609d5a37e19df73180ede</td>\n",
       "      <td>0x6365398036d4ef045254fce2e525ac59760b186b</td>\n",
       "      <td>3.75</td>\n",
       "      <td>9653.748962</td>\n",
       "      <td>0</td>\n",
       "      <td>sub red</td>\n",
       "      <td>blue</td>\n",
       "      <td>...</td>\n",
       "      <td>0.0</td>\n",
       "      <td>0.0</td>\n",
       "      <td>36.496350</td>\n",
       "      <td>0.0</td>\n",
       "      <td>4.844961</td>\n",
       "      <td>33.112583</td>\n",
       "      <td>28.735632</td>\n",
       "      <td>0.000000</td>\n",
       "      <td>1.690331</td>\n",
       "      <td>117.931694</td>\n",
       "    </tr>\n",
       "    <tr>\n",
       "      <th>2</th>\n",
       "      <td>2022-02-07 06:38:47+00:00</td>\n",
       "      <td>69</td>\n",
       "      <td>ETH</td>\n",
       "      <td>0xc441eb1f41b06826db885e81486b086294a925fd</td>\n",
       "      <td>0xdb6cfff6c0955676bfa8ce795d5beffbab793298</td>\n",
       "      <td>6.90</td>\n",
       "      <td>17423.477522</td>\n",
       "      <td>0</td>\n",
       "      <td>0</td>\n",
       "      <td>green</td>\n",
       "      <td>...</td>\n",
       "      <td>0.0</td>\n",
       "      <td>0.0</td>\n",
       "      <td>2.532287</td>\n",
       "      <td>0.0</td>\n",
       "      <td>1.260081</td>\n",
       "      <td>16.366612</td>\n",
       "      <td>45.248869</td>\n",
       "      <td>2.677376</td>\n",
       "      <td>1.690331</td>\n",
       "      <td>76.219962</td>\n",
       "    </tr>\n",
       "    <tr>\n",
       "      <th>3</th>\n",
       "      <td>2022-02-01 03:59:04+00:00</td>\n",
       "      <td>140</td>\n",
       "      <td>ETH</td>\n",
       "      <td>0x8279648470eb92cbcd00ceb8ca30c2adfac20740</td>\n",
       "      <td>0xdb6cfff6c0955676bfa8ce795d5beffbab793298</td>\n",
       "      <td>10.69</td>\n",
       "      <td>32893.590421</td>\n",
       "      <td>pop mfer</td>\n",
       "      <td>0</td>\n",
       "      <td>0</td>\n",
       "      <td>...</td>\n",
       "      <td>0.0</td>\n",
       "      <td>0.0</td>\n",
       "      <td>0.000000</td>\n",
       "      <td>0.0</td>\n",
       "      <td>0.000000</td>\n",
       "      <td>0.000000</td>\n",
       "      <td>0.000000</td>\n",
       "      <td>0.000000</td>\n",
       "      <td>0.000000</td>\n",
       "      <td>10000.000000</td>\n",
       "    </tr>\n",
       "    <tr>\n",
       "      <th>4</th>\n",
       "      <td>2022-02-10 20:54:29+00:00</td>\n",
       "      <td>140</td>\n",
       "      <td>ETH</td>\n",
       "      <td>0x0c7598889d8ee611e94566d5cac5cc7c62f516da</td>\n",
       "      <td>0xc55db9017f9fa92f514050fb64439a2cac4ec458</td>\n",
       "      <td>12.00</td>\n",
       "      <td>30301.700037</td>\n",
       "      <td>pop mfer</td>\n",
       "      <td>0</td>\n",
       "      <td>0</td>\n",
       "      <td>...</td>\n",
       "      <td>0.0</td>\n",
       "      <td>0.0</td>\n",
       "      <td>0.000000</td>\n",
       "      <td>0.0</td>\n",
       "      <td>0.000000</td>\n",
       "      <td>0.000000</td>\n",
       "      <td>0.000000</td>\n",
       "      <td>0.000000</td>\n",
       "      <td>0.000000</td>\n",
       "      <td>10000.000000</td>\n",
       "    </tr>\n",
       "  </tbody>\n",
       "</table>\n",
       "<p>5 rows × 53 columns</p>\n",
       "</div>"
      ],
      "text/plain": [
       "                       date  token_id payment  \\\n",
       "0 2022-02-19 05:46:20+00:00        37     ETH   \n",
       "1 2022-02-24 02:15:15+00:00        37     ETH   \n",
       "2 2022-02-07 06:38:47+00:00        69     ETH   \n",
       "3 2022-02-01 03:59:04+00:00       140     ETH   \n",
       "4 2022-02-10 20:54:29+00:00       140     ETH   \n",
       "\n",
       "                                        buyer  \\\n",
       "0  0x6365398036d4ef045254fce2e525ac59760b186b   \n",
       "1  0xcb4652bb0396880c3b2609d5a37e19df73180ede   \n",
       "2  0xc441eb1f41b06826db885e81486b086294a925fd   \n",
       "3  0x8279648470eb92cbcd00ceb8ca30c2adfac20740   \n",
       "4  0x0c7598889d8ee611e94566d5cac5cc7c62f516da   \n",
       "\n",
       "                                       seller  price      priceUsd       1/1  \\\n",
       "0  0xe6fe14a30631b22d3f78d9ec7869eb62d6e73daa   3.30   8370.462853         0   \n",
       "1  0x6365398036d4ef045254fce2e525ac59760b186b   3.75   9653.748962         0   \n",
       "2  0xdb6cfff6c0955676bfa8ce795d5beffbab793298   6.90  17423.477522         0   \n",
       "3  0xdb6cfff6c0955676bfa8ce795d5beffbab793298  10.69  32893.590421  pop mfer   \n",
       "4  0xc55db9017f9fa92f514050fb64439a2cac4ec458  12.00  30301.700037  pop mfer   \n",
       "\n",
       "  4:20 watch background  ... hat_over_headphones_score  \\\n",
       "0    sub red       blue  ...                       0.0   \n",
       "1    sub red       blue  ...                       0.0   \n",
       "2          0      green  ...                       0.0   \n",
       "3          0          0  ...                       0.0   \n",
       "4          0          0  ...                       0.0   \n",
       "\n",
       "  hat_under_headphones_score headphones_score long_hair_score mouth_score  \\\n",
       "0                        0.0        36.496350             0.0    4.844961   \n",
       "1                        0.0        36.496350             0.0    4.844961   \n",
       "2                        0.0         2.532287             0.0    1.260081   \n",
       "3                        0.0         0.000000             0.0    0.000000   \n",
       "4                        0.0         0.000000             0.0    0.000000   \n",
       "\n",
       "  shirt_score short_hair_score smoke_score type_score  rarity_score  \n",
       "0   33.112583        28.735632    0.000000   1.690331    117.931694  \n",
       "1   33.112583        28.735632    0.000000   1.690331    117.931694  \n",
       "2   16.366612        45.248869    2.677376   1.690331     76.219962  \n",
       "3    0.000000         0.000000    0.000000   0.000000  10000.000000  \n",
       "4    0.000000         0.000000    0.000000   0.000000  10000.000000  \n",
       "\n",
       "[5 rows x 53 columns]"
      ]
     },
     "execution_count": 2,
     "metadata": {},
     "output_type": "execute_result"
    }
   ],
   "source": [
    "df = pd.read_csv('./data/nft_all.csv')\n",
    "df['date'] = pd.to_datetime(df['date'])\n",
    "df.head()"
   ]
  },
  {
   "cell_type": "markdown",
   "id": "26ee0f3c-c3bc-4a4f-a052-169f94689e49",
   "metadata": {},
   "source": [
    "#### Subsetting Columns for Modeling Purposes"
   ]
  },
  {
   "cell_type": "code",
   "execution_count": 3,
   "id": "84cc02d5-bc4c-444d-9766-f46266b1eed4",
   "metadata": {},
   "outputs": [],
   "source": [
    "score_cols = [\n",
    "    \"1of1_score\",\"watch_score\",\"background_score\",\n",
    "    \"beard_score\",\"chain_score\",\"eyes_score\",\n",
    "    \"hat_over_headphones_score\",\"hat_under_headphones_score\",\"headphones_score\",\n",
    "    \"long_hair_score\",\"mouth_score\",\"shirt_score\",\n",
    "    \"short_hair_score\",\"smoke_score\",\"type_score\",\"rarity_score\"\n",
    "]"
   ]
  },
  {
   "cell_type": "code",
   "execution_count": 4,
   "id": "8cb1157f-694b-47bf-898f-19eacb282471",
   "metadata": {},
   "outputs": [],
   "source": [
    "rarity_cols = [\n",
    "    \"1of1_rarity\",\"watch_rarity\",\"background_rarity\",\n",
    "    \"beard_rarity\",\"chain_rarity\",\"eyes_rarity\",\n",
    "    \"hat_over_headphones_rarity\",\"hat_under_headphones_rarity\",\"headphones_rarity\",\n",
    "    \"long_hair_rarity\",\"mouth_rarity\",\"shirt_rarity\",\"short_hair_rarity\",\"smoke_rarity\"\n",
    "]"
   ]
  },
  {
   "cell_type": "code",
   "execution_count": 5,
   "id": "4bb1c290-b4d1-4f32-8170-a87cec020083",
   "metadata": {},
   "outputs": [],
   "source": [
    "feature_cols = [\n",
    "    '1/1','4:20 watch','background','beard', 'chain', 'eyes','hat over headphones','hat under headphones','headphones','long hair','mouth','shirt','short hair','smoke','type'\n",
    "]"
   ]
  },
  {
   "cell_type": "code",
   "execution_count": 6,
   "id": "cc378025-1430-4c2b-91e8-7015f0a687ea",
   "metadata": {},
   "outputs": [
    {
     "data": {
      "text/plain": [
       "one_day_volume                262.080800\n",
       "one_day_change                 -0.012042\n",
       "one_day_sales                  81.000000\n",
       "one_day_average_price           3.235565\n",
       "seven_day_volume             4460.061519\n",
       "seven_day_change               -0.436667\n",
       "seven_day_sales              1082.000000\n",
       "seven_day_average_price         4.122053\n",
       "thirty_day_volume           19705.088064\n",
       "thirty_day_change              15.286376\n",
       "thirty_day_sales             7848.000000\n",
       "thirty_day_average_price        2.510842\n",
       "total_volume                23444.929392\n",
       "total_sales                 20434.000000\n",
       "total_supply                10020.000000\n",
       "count                       10020.000000\n",
       "num_owners                   5072.000000\n",
       "average_price                   1.147349\n",
       "num_reports                     7.000000\n",
       "market_cap                  41302.972660\n",
       "floor_price                     2.790000\n",
       "Name: 0, dtype: float64"
      ]
     },
     "execution_count": 6,
     "metadata": {},
     "output_type": "execute_result"
    }
   ],
   "source": [
    "#to read csv in as a series:\n",
    "stats = pd.read_csv('./data/stats.csv', index_col=0, squeeze=True)\n",
    "stats"
   ]
  },
  {
   "cell_type": "code",
   "execution_count": 7,
   "id": "3b85e8db-fd49-45b9-8a39-1a8dea09235e",
   "metadata": {},
   "outputs": [],
   "source": [
    "df['1d_avg_price'] = stats['one_day_average_price']\n",
    "df['7d_avg_price'] = stats['seven_day_average_price']\n",
    "df['30d_avg_price'] = stats['thirty_day_average_price']\n",
    "df['average_price'] = stats['average_price']\n",
    "df['floor_price'] = stats['floor_price']\n",
    "\n",
    "stats_cols = ['1d_avg_price', '7d_avg_price', '30d_avg_price', 'average_price', 'floor_price']"
   ]
  },
  {
   "cell_type": "code",
   "execution_count": 8,
   "id": "da0b7a8d-319c-4c31-bb94-297566c172b1",
   "metadata": {},
   "outputs": [],
   "source": [
    "non_cols = ['date', 'token_id', 'payment', 'buyer', 'seller', 'price', 'priceUsd']"
   ]
  },
  {
   "cell_type": "code",
   "execution_count": 9,
   "id": "ef3b992d-97c8-4d5f-9605-5ce5a50565c0",
   "metadata": {},
   "outputs": [
    {
     "data": {
      "text/plain": [
       "(19784, 58)"
      ]
     },
     "execution_count": 9,
     "metadata": {},
     "output_type": "execute_result"
    }
   ],
   "source": [
    "#sort dataframe by datetime, ascending\n",
    "\n",
    "df = df.sort_values(by='date')\n",
    "df.shape"
   ]
  },
  {
   "cell_type": "code",
   "execution_count": 10,
   "id": "dee9b6b9-75aa-4544-94cf-72f4af912748",
   "metadata": {},
   "outputs": [],
   "source": [
    "df.to_csv('./data/model_data_v1.csv', index=False)"
   ]
  },
  {
   "cell_type": "markdown",
   "id": "011d573c-1ff1-4b70-b9df-4e41c7fa05af",
   "metadata": {},
   "source": [
    "#### Linear Regression"
   ]
  },
  {
   "cell_type": "code",
   "execution_count": 28,
   "id": "d4e3989b-af2f-457e-ae3d-28fe066fdc48",
   "metadata": {},
   "outputs": [
    {
     "data": {
      "text/plain": [
       "(0.22292488207207473, 0.2610555532491463)"
      ]
     },
     "execution_count": 28,
     "metadata": {},
     "output_type": "execute_result"
    }
   ],
   "source": [
    "#fitting a preliminary linear model\n",
    "\n",
    "X = df.drop(columns=non_cols+feature_cols+rarity_cols)\n",
    "y = df['priceUsd']\n",
    "\n",
    "X_train, X_test, y_train, y_test = train_test_split(X, y, random_state=42)\n",
    "\n",
    "lr = LinearRegression()\n",
    "lr.fit(X_train, y_train)\n",
    "lr.score(X_train, y_train), lr.score(X_test, y_test)"
   ]
  },
  {
   "cell_type": "code",
   "execution_count": 29,
   "id": "48ecaf6f-0347-4e45-b83a-cf90a15015de",
   "metadata": {},
   "outputs": [
    {
     "data": {
      "text/plain": [
       "(0.22292544743440268, 0.2612702939046466)"
      ]
     },
     "execution_count": 29,
     "metadata": {},
     "output_type": "execute_result"
    }
   ],
   "source": [
    "#SS barely improves model performance\n",
    "\n",
    "z=StandardScaler()\n",
    "Z_train = z.fit_transform(X_train)\n",
    "Z_test = z.transform(X_test)\n",
    "\n",
    "lr = LinearRegression()\n",
    "lr.fit(Z_train, y_train)\n",
    "lr.score(Z_train, y_train), lr.score(Z_test, y_test)"
   ]
  },
  {
   "cell_type": "code",
   "execution_count": 26,
   "id": "23594ca2-0d54-499e-90b9-bb8eab19d364",
   "metadata": {},
   "outputs": [
    {
     "data": {
      "text/plain": [
       "(8983, 58)"
      ]
     },
     "execution_count": 26,
     "metadata": {},
     "output_type": "execute_result"
    }
   ],
   "source": [
    "#create a copy of the dataframe that is limited to the most recent txn for each token_id\n",
    "\n",
    "df_lim = df.copy()\n",
    "#df_lim = \n",
    "df_lim = df_lim.drop_duplicates(subset='token_id', keep='last')\n",
    "df_lim.shape"
   ]
  },
  {
   "cell_type": "code",
   "execution_count": 14,
   "id": "e1292a5e-53f0-442b-9c0e-d7c79a9c87dd",
   "metadata": {},
   "outputs": [],
   "source": [
    "df_lim.to_csv('./data/model_single_txns.csv', index=False)"
   ]
  },
  {
   "cell_type": "code",
   "execution_count": 15,
   "id": "8114b1b3-31ae-4e2f-aa33-222b4c2cb3c5",
   "metadata": {},
   "outputs": [
    {
     "data": {
      "text/plain": [
       "(0.24891829453098935, 0.23323534387284495)"
      ]
     },
     "execution_count": 15,
     "metadata": {},
     "output_type": "execute_result"
    }
   ],
   "source": [
    "#df_lim (one transaction per token) reduces variance between r2 scores but under performs modeling all txns\n",
    "\n",
    "X = df_lim.drop(columns=non_cols+feature_cols+rarity_cols)\n",
    "y = df_lim['priceUsd']\n",
    "\n",
    "X_train, X_test, y_train, y_test = train_test_split(X, y, random_state=42)\n",
    "\n",
    "lr = LinearRegression()\n",
    "lr.fit(X_train, y_train)\n",
    "lr.score(X_train, y_train), lr.score(X_test, y_test)"
   ]
  },
  {
   "cell_type": "code",
   "execution_count": 16,
   "id": "ea47d8fb-9d37-4de6-86be-1242736c3a7d",
   "metadata": {},
   "outputs": [
    {
     "data": {
      "text/plain": [
       "(0.2032307703417925, 0.20203787808327411)"
      ]
     },
     "execution_count": 16,
     "metadata": {},
     "output_type": "execute_result"
    }
   ],
   "source": [
    "# using score cols leads to better performance compareed to using rarity cols\n",
    "\n",
    "X = df_lim.drop(columns=non_cols+feature_cols+score_cols)\n",
    "y = df_lim['priceUsd']\n",
    "\n",
    "X_train, X_test, y_train, y_test = train_test_split(X, y, random_state=42)\n",
    "\n",
    "lr = LinearRegression()\n",
    "lr.fit(X_train, y_train)\n",
    "lr.score(X_train, y_train), lr.score(X_test, y_test)"
   ]
  },
  {
   "cell_type": "code",
   "execution_count": 17,
   "id": "48e19e1d-0a6a-4de4-bb66-65786c6e4069",
   "metadata": {},
   "outputs": [
    {
     "data": {
      "text/plain": [
       "(0.24698474690138683, 0.2339769369370236)"
      ]
     },
     "execution_count": 17,
     "metadata": {},
     "output_type": "execute_result"
    }
   ],
   "source": [
    "# using only total 'rarity_score' with rarity cols performs better than using score cols instead of rarity cols and performs better than using all rarity cols\n",
    "\n",
    "X = df_lim.drop(columns=non_cols+feature_cols+score_cols[:-1])\n",
    "y = df_lim['priceUsd']\n",
    "\n",
    "X_train, X_test, y_train, y_test = train_test_split(X, y, random_state=42)\n",
    "\n",
    "lr = LinearRegression()\n",
    "lr.fit(X_train, y_train)\n",
    "lr.score(X_train, y_train), lr.score(X_test, y_test)"
   ]
  },
  {
   "cell_type": "markdown",
   "id": "be7f78fd-6f4a-4340-92f4-7404749e5619",
   "metadata": {},
   "source": [
    "#### Support Vector Machine"
   ]
  },
  {
   "cell_type": "code",
   "execution_count": 18,
   "id": "e637e650-6003-47ef-a189-78668c4e558e",
   "metadata": {},
   "outputs": [
    {
     "data": {
      "text/plain": [
       "(0.018896219266142156, 0.10551028031300891)"
      ]
     },
     "execution_count": 18,
     "metadata": {},
     "output_type": "execute_result"
    }
   ],
   "source": [
    "# support vector regressor is poor performing\n",
    "# fitted cols of best scores; rarity scores and stats\n",
    "\n",
    "X = df.drop(columns=non_cols+feature_cols+rarity_cols)\n",
    "y = df['priceUsd']\n",
    "\n",
    "X_train, X_test, y_train, y_test = train_test_split(X, y, random_state=42)\n",
    "\n",
    "z=StandardScaler()\n",
    "Z_train = z.fit_transform(X_train)\n",
    "Z_test = z.transform(X_test)\n",
    "\n",
    "svr = LinearSVR()\n",
    "svr.fit(Z_train, y_train)\n",
    "svr.score(Z_train, y_train), svr.score(Z_test, y_test)"
   ]
  },
  {
   "cell_type": "code",
   "execution_count": 19,
   "id": "05331854-eae8-43c5-86ce-3925eaae28b2",
   "metadata": {},
   "outputs": [
    {
     "data": {
      "text/plain": [
       "(-0.15959392217453505, -0.14697128183047625)"
      ]
     },
     "execution_count": 19,
     "metadata": {},
     "output_type": "execute_result"
    }
   ],
   "source": [
    "#linear SVR only uses a linear kernel, attempting SVR,, default kernel = 'rbf'\n",
    "\n",
    "X = df.drop(columns=non_cols+feature_cols+rarity_cols)\n",
    "y = df['priceUsd']\n",
    "\n",
    "X_train, X_test, y_train, y_test = train_test_split(X, y, random_state=42)\n",
    "\n",
    "z=StandardScaler()\n",
    "Z_train = z.fit_transform(X_train)\n",
    "Z_test = z.transform(X_test)\n",
    "\n",
    "svr = SVR()\n",
    "svr.fit(Z_train, y_train)\n",
    "svr.score(Z_train, y_train), svr.score(Z_test, y_test)"
   ]
  },
  {
   "cell_type": "markdown",
   "id": "e209c0a5-86cd-46e2-846f-91354b3826d2",
   "metadata": {},
   "source": [
    "#### Neighbors, Tree, Ensemble Methods"
   ]
  },
  {
   "cell_type": "code",
   "execution_count": 20,
   "id": "8a6ea49b-a7f6-4ed3-9910-6f3e8cbee994",
   "metadata": {},
   "outputs": [],
   "source": [
    "#setting up scaled data\n",
    "\n",
    "X = df.drop(columns=non_cols+feature_cols+rarity_cols)\n",
    "y = df['priceUsd']\n",
    "\n",
    "X_train, X_test, y_train, y_test = train_test_split(X, y, random_state=42)\n",
    "\n",
    "z=StandardScaler()\n",
    "Z_train = z.fit_transform(X_train)\n",
    "Z_test = z.transform(X_test)"
   ]
  },
  {
   "cell_type": "code",
   "execution_count": 21,
   "id": "4f458dd3-8e6d-41bc-8160-9cb10a9fe753",
   "metadata": {},
   "outputs": [
    {
     "data": {
      "text/plain": [
       "(0.39145020990285095, 0.15592833041599075)"
      ]
     },
     "execution_count": 21,
     "metadata": {},
     "output_type": "execute_result"
    }
   ],
   "source": [
    "kn = KNeighborsRegressor()\n",
    "kn.fit(Z_train, y_train)\n",
    "kn.score(Z_train, y_train), kn.score(Z_test, y_test)"
   ]
  },
  {
   "cell_type": "code",
   "execution_count": 22,
   "id": "9e887782-d6b4-46e8-ab8a-1fcbcda1d10f",
   "metadata": {},
   "outputs": [
    {
     "data": {
      "text/plain": [
       "(0.6347123017614219, -0.2535874535039875)"
      ]
     },
     "execution_count": 22,
     "metadata": {},
     "output_type": "execute_result"
    }
   ],
   "source": [
    "dr = DecisionTreeRegressor(random_state=42)\n",
    "dr.fit(X_train, y_train)\n",
    "dr.score(X_train, y_train), dr.score(X_test, y_test)"
   ]
  },
  {
   "cell_type": "code",
   "execution_count": 23,
   "id": "eaad4940-5123-43b6-816e-9afb575a91f4",
   "metadata": {},
   "outputs": [
    {
     "data": {
      "text/plain": [
       "(0.5805455125559239, 0.038099980392167776)"
      ]
     },
     "execution_count": 23,
     "metadata": {},
     "output_type": "execute_result"
    }
   ],
   "source": [
    "br = BaggingRegressor(random_state=42)\n",
    "br.fit(X_train, y_train)\n",
    "br.score(X_train, y_train), br.score(X_test, y_test)"
   ]
  },
  {
   "cell_type": "code",
   "execution_count": 24,
   "id": "3a59353b-9f81-425b-adb2-820c66a2e5e6",
   "metadata": {},
   "outputs": [
    {
     "data": {
      "text/plain": [
       "(0.6057902673009586, 0.05767219190889128)"
      ]
     },
     "execution_count": 24,
     "metadata": {},
     "output_type": "execute_result"
    }
   ],
   "source": [
    "rf = RandomForestRegressor(random_state=42)\n",
    "rf.fit(X_train, y_train)\n",
    "rf.score(X_train, y_train), rf.score(X_test, y_test)"
   ]
  },
  {
   "cell_type": "code",
   "execution_count": 25,
   "id": "6ca11e8d-944b-4a56-83a3-82a7f056f1be",
   "metadata": {},
   "outputs": [
    {
     "data": {
      "text/plain": [
       "(0.2245621946007691, 0.15010840618013976)"
      ]
     },
     "execution_count": 25,
     "metadata": {},
     "output_type": "execute_result"
    }
   ],
   "source": [
    "ada = AdaBoostRegressor(random_state=42)\n",
    "ada.fit(X_train, y_train)\n",
    "ada.score(X_train, y_train), ada.score(X_test, y_test)"
   ]
  }
 ],
 "metadata": {
  "kernelspec": {
   "display_name": "Python 3 (ipykernel)",
   "language": "python",
   "name": "python3"
  },
  "language_info": {
   "codemirror_mode": {
    "name": "ipython",
    "version": 3
   },
   "file_extension": ".py",
   "mimetype": "text/x-python",
   "name": "python",
   "nbconvert_exporter": "python",
   "pygments_lexer": "ipython3",
   "version": "3.9.7"
  }
 },
 "nbformat": 4,
 "nbformat_minor": 5
}
