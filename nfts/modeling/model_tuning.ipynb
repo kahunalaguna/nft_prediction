{
 "cells": [
  {
   "cell_type": "markdown",
   "id": "c667c633-6db2-48cc-b349-394dd1958b33",
   "metadata": {},
   "source": [
    "#### Imports"
   ]
  },
  {
   "cell_type": "code",
   "execution_count": 1,
   "id": "3b05f170-d867-4ab4-bcc4-a336e0a62343",
   "metadata": {},
   "outputs": [],
   "source": [
    "import pandas as pd\n",
    "import numpy as np\n",
    "\n",
    "from sklearn.linear_model import LinearRegression\n",
    "from sklearn.linear_model import LassoCV\n",
    "from sklearn.linear_model import RidgeCV\n",
    "\n",
    "from sklearn.preprocessing import StandardScaler\n",
    "from sklearn.preprocessing import PolynomialFeatures\n",
    "\n",
    "from sklearn.model_selection import train_test_split\n",
    "from sklearn.model_selection import GridSearchCV\n",
    "from sklearn.model_selection import cross_val_score\n",
    "\n",
    "from sklearn.pipeline import Pipeline\n",
    "\n",
    "from sklearn.metrics import mean_squared_error\n",
    "\n",
    "import matplotlib.pyplot as plt"
   ]
  },
  {
   "cell_type": "markdown",
   "id": "e793bb00-d3eb-4e1b-93d5-630e8b2b3a95",
   "metadata": {},
   "source": [
    "#### Reading Modeling Data"
   ]
  },
  {
   "cell_type": "code",
   "execution_count": 2,
   "id": "f545444a-e0b5-41cd-9496-bb43436d9bb9",
   "metadata": {},
   "outputs": [
    {
     "data": {
      "text/plain": [
       "(19784, 58)"
      ]
     },
     "execution_count": 2,
     "metadata": {},
     "output_type": "execute_result"
    }
   ],
   "source": [
    "#full transaction dataset\n",
    "\n",
    "df = pd.read_csv('./data/model_data_v1.csv')\n",
    "df['date'] = pd.to_datetime(df['date'])\n",
    "df = df.sort_values(by='date')\n",
    "df.shape"
   ]
  },
  {
   "cell_type": "code",
   "execution_count": 3,
   "id": "b665f5f1-0d40-4762-8489-6a53f2959236",
   "metadata": {},
   "outputs": [
    {
     "data": {
      "text/html": [
       "<div>\n",
       "<style scoped>\n",
       "    .dataframe tbody tr th:only-of-type {\n",
       "        vertical-align: middle;\n",
       "    }\n",
       "\n",
       "    .dataframe tbody tr th {\n",
       "        vertical-align: top;\n",
       "    }\n",
       "\n",
       "    .dataframe thead th {\n",
       "        text-align: right;\n",
       "    }\n",
       "</style>\n",
       "<table border=\"1\" class=\"dataframe\">\n",
       "  <thead>\n",
       "    <tr style=\"text-align: right;\">\n",
       "      <th></th>\n",
       "      <th>date</th>\n",
       "      <th>token_id</th>\n",
       "      <th>payment</th>\n",
       "      <th>buyer</th>\n",
       "      <th>seller</th>\n",
       "      <th>price</th>\n",
       "      <th>priceUsd</th>\n",
       "      <th>1/1</th>\n",
       "      <th>4:20 watch</th>\n",
       "      <th>background</th>\n",
       "      <th>...</th>\n",
       "      <th>shirt_score</th>\n",
       "      <th>short_hair_score</th>\n",
       "      <th>smoke_score</th>\n",
       "      <th>type_score</th>\n",
       "      <th>rarity_score</th>\n",
       "      <th>1d_avg_price</th>\n",
       "      <th>7d_avg_price</th>\n",
       "      <th>30d_avg_price</th>\n",
       "      <th>average_price</th>\n",
       "      <th>floor_price</th>\n",
       "    </tr>\n",
       "  </thead>\n",
       "  <tbody>\n",
       "    <tr>\n",
       "      <th>0</th>\n",
       "      <td>2021-11-30 21:27:04+00:00</td>\n",
       "      <td>367</td>\n",
       "      <td>ETH</td>\n",
       "      <td>0xa76ae53049e3c5f8f30954f804da503b15040cc1</td>\n",
       "      <td>0xb3d6dbc54ed91bcc84da7871fc9e146e7f13c496</td>\n",
       "      <td>1.00</td>\n",
       "      <td>4650.538658</td>\n",
       "      <td>0</td>\n",
       "      <td>sub lantern (green)</td>\n",
       "      <td>graveyard</td>\n",
       "      <td>...</td>\n",
       "      <td>33.112583</td>\n",
       "      <td>0.0</td>\n",
       "      <td>2.677376</td>\n",
       "      <td>112.359551</td>\n",
       "      <td>536.950704</td>\n",
       "      <td>3.235565</td>\n",
       "      <td>4.122053</td>\n",
       "      <td>2.510842</td>\n",
       "      <td>1.147349</td>\n",
       "      <td>2.79</td>\n",
       "    </tr>\n",
       "    <tr>\n",
       "      <th>1</th>\n",
       "      <td>2021-11-30 21:29:41+00:00</td>\n",
       "      <td>5039</td>\n",
       "      <td>ETH</td>\n",
       "      <td>0xde06ffb76c61b51d11aa593b5fe175a59d43e78f</td>\n",
       "      <td>0x6a61925dcdf27d8b28c11ec76228b4195a978069</td>\n",
       "      <td>0.69</td>\n",
       "      <td>3208.871674</td>\n",
       "      <td>0</td>\n",
       "      <td>sub lantern (green)</td>\n",
       "      <td>orange</td>\n",
       "      <td>...</td>\n",
       "      <td>18.148820</td>\n",
       "      <td>0.0</td>\n",
       "      <td>2.624672</td>\n",
       "      <td>1.690331</td>\n",
       "      <td>247.762786</td>\n",
       "      <td>3.235565</td>\n",
       "      <td>4.122053</td>\n",
       "      <td>2.510842</td>\n",
       "      <td>1.147349</td>\n",
       "      <td>2.79</td>\n",
       "    </tr>\n",
       "    <tr>\n",
       "      <th>2</th>\n",
       "      <td>2021-11-30 21:32:17+00:00</td>\n",
       "      <td>5172</td>\n",
       "      <td>ETH</td>\n",
       "      <td>0x11f8704d371012c691e786341f8f9ab20d63e629</td>\n",
       "      <td>0xd15b046342bc19ea520254b0c16c6a3fcaa372b1</td>\n",
       "      <td>0.46</td>\n",
       "      <td>2139.247783</td>\n",
       "      <td>0</td>\n",
       "      <td>0</td>\n",
       "      <td>blue</td>\n",
       "      <td>...</td>\n",
       "      <td>0.000000</td>\n",
       "      <td>0.0</td>\n",
       "      <td>13.386881</td>\n",
       "      <td>1.690331</td>\n",
       "      <td>32.150504</td>\n",
       "      <td>3.235565</td>\n",
       "      <td>4.122053</td>\n",
       "      <td>2.510842</td>\n",
       "      <td>1.147349</td>\n",
       "      <td>2.79</td>\n",
       "    </tr>\n",
       "  </tbody>\n",
       "</table>\n",
       "<p>3 rows × 58 columns</p>\n",
       "</div>"
      ],
      "text/plain": [
       "                       date  token_id payment  \\\n",
       "0 2021-11-30 21:27:04+00:00       367     ETH   \n",
       "1 2021-11-30 21:29:41+00:00      5039     ETH   \n",
       "2 2021-11-30 21:32:17+00:00      5172     ETH   \n",
       "\n",
       "                                        buyer  \\\n",
       "0  0xa76ae53049e3c5f8f30954f804da503b15040cc1   \n",
       "1  0xde06ffb76c61b51d11aa593b5fe175a59d43e78f   \n",
       "2  0x11f8704d371012c691e786341f8f9ab20d63e629   \n",
       "\n",
       "                                       seller  price     priceUsd 1/1  \\\n",
       "0  0xb3d6dbc54ed91bcc84da7871fc9e146e7f13c496   1.00  4650.538658   0   \n",
       "1  0x6a61925dcdf27d8b28c11ec76228b4195a978069   0.69  3208.871674   0   \n",
       "2  0xd15b046342bc19ea520254b0c16c6a3fcaa372b1   0.46  2139.247783   0   \n",
       "\n",
       "            4:20 watch background  ... shirt_score short_hair_score  \\\n",
       "0  sub lantern (green)  graveyard  ...   33.112583              0.0   \n",
       "1  sub lantern (green)     orange  ...   18.148820              0.0   \n",
       "2                    0       blue  ...    0.000000              0.0   \n",
       "\n",
       "  smoke_score  type_score rarity_score 1d_avg_price 7d_avg_price  \\\n",
       "0    2.677376  112.359551   536.950704     3.235565     4.122053   \n",
       "1    2.624672    1.690331   247.762786     3.235565     4.122053   \n",
       "2   13.386881    1.690331    32.150504     3.235565     4.122053   \n",
       "\n",
       "  30d_avg_price average_price floor_price  \n",
       "0      2.510842      1.147349        2.79  \n",
       "1      2.510842      1.147349        2.79  \n",
       "2      2.510842      1.147349        2.79  \n",
       "\n",
       "[3 rows x 58 columns]"
      ]
     },
     "execution_count": 3,
     "metadata": {},
     "output_type": "execute_result"
    }
   ],
   "source": [
    "df.head(3)"
   ]
  },
  {
   "cell_type": "code",
   "execution_count": 4,
   "id": "09935a63-fa89-46f1-9122-fb80ad910aad",
   "metadata": {},
   "outputs": [
    {
     "data": {
      "text/plain": [
       "(8983, 58)"
      ]
     },
     "execution_count": 4,
     "metadata": {},
     "output_type": "execute_result"
    }
   ],
   "source": [
    "#dataset limited to transactions occurring only in 2022\n",
    "\n",
    "df_lim = pd.read_csv('./data/model_single_txns.csv')\n",
    "df_lim['date'] = pd.to_datetime(df['date'])\n",
    "df_lim = df_lim.sort_values(by='date')\n",
    "df_lim.shape"
   ]
  },
  {
   "cell_type": "code",
   "execution_count": 5,
   "id": "08436dba-413b-435d-a3a8-cea995f2e4e2",
   "metadata": {},
   "outputs": [
    {
     "data": {
      "text/html": [
       "<div>\n",
       "<style scoped>\n",
       "    .dataframe tbody tr th:only-of-type {\n",
       "        vertical-align: middle;\n",
       "    }\n",
       "\n",
       "    .dataframe tbody tr th {\n",
       "        vertical-align: top;\n",
       "    }\n",
       "\n",
       "    .dataframe thead th {\n",
       "        text-align: right;\n",
       "    }\n",
       "</style>\n",
       "<table border=\"1\" class=\"dataframe\">\n",
       "  <thead>\n",
       "    <tr style=\"text-align: right;\">\n",
       "      <th></th>\n",
       "      <th>date</th>\n",
       "      <th>token_id</th>\n",
       "      <th>payment</th>\n",
       "      <th>buyer</th>\n",
       "      <th>seller</th>\n",
       "      <th>price</th>\n",
       "      <th>priceUsd</th>\n",
       "      <th>1/1</th>\n",
       "      <th>4:20 watch</th>\n",
       "      <th>background</th>\n",
       "      <th>...</th>\n",
       "      <th>shirt_score</th>\n",
       "      <th>short_hair_score</th>\n",
       "      <th>smoke_score</th>\n",
       "      <th>type_score</th>\n",
       "      <th>rarity_score</th>\n",
       "      <th>1d_avg_price</th>\n",
       "      <th>7d_avg_price</th>\n",
       "      <th>30d_avg_price</th>\n",
       "      <th>average_price</th>\n",
       "      <th>floor_price</th>\n",
       "    </tr>\n",
       "  </thead>\n",
       "  <tbody>\n",
       "    <tr>\n",
       "      <th>0</th>\n",
       "      <td>2021-11-30 21:27:04+00:00</td>\n",
       "      <td>5150</td>\n",
       "      <td>ETH</td>\n",
       "      <td>0xcc1eab8d0fc6313780a86d9713396307ea6a0416</td>\n",
       "      <td>0xdd74a5f502167c1bdd88968d058834170175277b</td>\n",
       "      <td>0.399</td>\n",
       "      <td>1855.564924</td>\n",
       "      <td>0</td>\n",
       "      <td>sub black</td>\n",
       "      <td>orange</td>\n",
       "      <td>...</td>\n",
       "      <td>0.0</td>\n",
       "      <td>0.0</td>\n",
       "      <td>2.677376</td>\n",
       "      <td>2.526529</td>\n",
       "      <td>36.700389</td>\n",
       "      <td>3.235565</td>\n",
       "      <td>4.122053</td>\n",
       "      <td>2.510842</td>\n",
       "      <td>1.147349</td>\n",
       "      <td>2.79</td>\n",
       "    </tr>\n",
       "    <tr>\n",
       "      <th>1</th>\n",
       "      <td>2021-11-30 21:29:41+00:00</td>\n",
       "      <td>6533</td>\n",
       "      <td>ETH</td>\n",
       "      <td>0xba9f8f95481cd383868721a856c00b8a8f35a3d3</td>\n",
       "      <td>0x7c121489e50e6672bbb59cc4c3fc86eaa8fb8364</td>\n",
       "      <td>0.350</td>\n",
       "      <td>1627.688530</td>\n",
       "      <td>0</td>\n",
       "      <td>sub red</td>\n",
       "      <td>orange</td>\n",
       "      <td>...</td>\n",
       "      <td>0.0</td>\n",
       "      <td>0.0</td>\n",
       "      <td>2.624672</td>\n",
       "      <td>1.690331</td>\n",
       "      <td>42.985527</td>\n",
       "      <td>3.235565</td>\n",
       "      <td>4.122053</td>\n",
       "      <td>2.510842</td>\n",
       "      <td>1.147349</td>\n",
       "      <td>2.79</td>\n",
       "    </tr>\n",
       "    <tr>\n",
       "      <th>2</th>\n",
       "      <td>2021-11-30 21:32:17+00:00</td>\n",
       "      <td>6816</td>\n",
       "      <td>ETH</td>\n",
       "      <td>0xd6a4eb571e6812d72f86076e9d2f902fef288278</td>\n",
       "      <td>0x60cd5cd13e7be6f92cb1e13867fa2d4212531256</td>\n",
       "      <td>0.390</td>\n",
       "      <td>1813.710077</td>\n",
       "      <td>0</td>\n",
       "      <td>sub lantern (green)</td>\n",
       "      <td>orange</td>\n",
       "      <td>...</td>\n",
       "      <td>0.0</td>\n",
       "      <td>0.0</td>\n",
       "      <td>2.677376</td>\n",
       "      <td>2.526529</td>\n",
       "      <td>44.464909</td>\n",
       "      <td>3.235565</td>\n",
       "      <td>4.122053</td>\n",
       "      <td>2.510842</td>\n",
       "      <td>1.147349</td>\n",
       "      <td>2.79</td>\n",
       "    </tr>\n",
       "  </tbody>\n",
       "</table>\n",
       "<p>3 rows × 58 columns</p>\n",
       "</div>"
      ],
      "text/plain": [
       "                       date  token_id payment  \\\n",
       "0 2021-11-30 21:27:04+00:00      5150     ETH   \n",
       "1 2021-11-30 21:29:41+00:00      6533     ETH   \n",
       "2 2021-11-30 21:32:17+00:00      6816     ETH   \n",
       "\n",
       "                                        buyer  \\\n",
       "0  0xcc1eab8d0fc6313780a86d9713396307ea6a0416   \n",
       "1  0xba9f8f95481cd383868721a856c00b8a8f35a3d3   \n",
       "2  0xd6a4eb571e6812d72f86076e9d2f902fef288278   \n",
       "\n",
       "                                       seller  price     priceUsd 1/1  \\\n",
       "0  0xdd74a5f502167c1bdd88968d058834170175277b  0.399  1855.564924   0   \n",
       "1  0x7c121489e50e6672bbb59cc4c3fc86eaa8fb8364  0.350  1627.688530   0   \n",
       "2  0x60cd5cd13e7be6f92cb1e13867fa2d4212531256  0.390  1813.710077   0   \n",
       "\n",
       "            4:20 watch background  ... shirt_score short_hair_score  \\\n",
       "0            sub black     orange  ...         0.0              0.0   \n",
       "1              sub red     orange  ...         0.0              0.0   \n",
       "2  sub lantern (green)     orange  ...         0.0              0.0   \n",
       "\n",
       "  smoke_score type_score rarity_score 1d_avg_price 7d_avg_price 30d_avg_price  \\\n",
       "0    2.677376   2.526529    36.700389     3.235565     4.122053      2.510842   \n",
       "1    2.624672   1.690331    42.985527     3.235565     4.122053      2.510842   \n",
       "2    2.677376   2.526529    44.464909     3.235565     4.122053      2.510842   \n",
       "\n",
       "  average_price floor_price  \n",
       "0      1.147349        2.79  \n",
       "1      1.147349        2.79  \n",
       "2      1.147349        2.79  \n",
       "\n",
       "[3 rows x 58 columns]"
      ]
     },
     "execution_count": 5,
     "metadata": {},
     "output_type": "execute_result"
    }
   ],
   "source": [
    "df_lim.head(3)"
   ]
  },
  {
   "cell_type": "code",
   "execution_count": 6,
   "id": "5a0551c4-9c9c-4d87-b304-f15eb6d24b2d",
   "metadata": {},
   "outputs": [],
   "source": [
    "#naming list of columns to add in and out of models\n",
    "\n",
    "score_cols = [\"1of1_score\",\"watch_score\",\"background_score\",\"beard_score\",\"chain_score\",\"eyes_score\",\"hat_over_headphones_score\",\"hat_under_headphones_score\",\"headphones_score\",\"long_hair_score\",\"mouth_score\",\"shirt_score\",\"short_hair_score\",\"smoke_score\",\"type_score\",\"rarity_score\"]\n",
    "\n",
    "rarity_cols = [\"1of1_rarity\",\"watch_rarity\",\"background_rarity\",\"beard_rarity\",\"chain_rarity\",\"eyes_rarity\",\"hat_over_headphones_rarity\",\"hat_under_headphones_rarity\",\"headphones_rarity\",\"long_hair_rarity\",\"mouth_rarity\",\"shirt_rarity\",\"short_hair_rarity\",\"smoke_rarity\"]\n",
    "\n",
    "feature_cols = ['1/1','4:20 watch','background','beard', 'chain', 'eyes','hat over headphones','hat under headphones','headphones','long hair','mouth','shirt','short hair','smoke','type']\n",
    "\n",
    "non_cols = ['date', 'token_id', 'payment', 'buyer', 'seller', 'price', 'priceUsd']"
   ]
  },
  {
   "cell_type": "code",
   "execution_count": 7,
   "id": "858cb9f8-4a2a-47d4-9d8a-7a2aba649f88",
   "metadata": {},
   "outputs": [
    {
     "data": {
      "text/plain": [
       "(0.23154107386341216, 0.23765690055408661)"
      ]
     },
     "execution_count": 7,
     "metadata": {},
     "output_type": "execute_result"
    }
   ],
   "source": [
    "#best preliminary model from full dataset:\n",
    "\n",
    "X = df.drop(columns=non_cols+feature_cols+rarity_cols)\n",
    "y = df['priceUsd']\n",
    "\n",
    "X_train, X_test, y_train, y_test = train_test_split(X, y, random_state=42)\n",
    "\n",
    "lr = LinearRegression()\n",
    "lr.fit(X_train, y_train)\n",
    "lr.score(X_train, y_train), lr.score(X_test, y_test)"
   ]
  },
  {
   "cell_type": "code",
   "execution_count": 8,
   "id": "11a41502-78f8-4a3b-96e1-75b780cdad12",
   "metadata": {},
   "outputs": [
    {
     "data": {
      "text/plain": [
       "(0.23463863016668107, 0.2617145688713669)"
      ]
     },
     "execution_count": 8,
     "metadata": {},
     "output_type": "execute_result"
    }
   ],
   "source": [
    "#best prelimary model from dataset limited tto most recentt transaction per nft in collection:\n",
    "\n",
    "X = df_lim.drop(columns=non_cols+feature_cols+score_cols[:-1])\n",
    "y = df_lim['priceUsd']\n",
    "\n",
    "X_train, X_test, y_train, y_test = train_test_split(X, y, random_state=42)\n",
    "\n",
    "lr = LinearRegression()\n",
    "lr.fit(X_train, y_train)\n",
    "lr.score(X_train, y_train), lr.score(X_test, y_test)"
   ]
  },
  {
   "cell_type": "code",
   "execution_count": 9,
   "id": "5c345f87-e7d0-4d10-8db2-4e5ba6321cef",
   "metadata": {},
   "outputs": [
    {
     "data": {
      "text/html": [
       "<div>\n",
       "<style scoped>\n",
       "    .dataframe tbody tr th:only-of-type {\n",
       "        vertical-align: middle;\n",
       "    }\n",
       "\n",
       "    .dataframe tbody tr th {\n",
       "        vertical-align: top;\n",
       "    }\n",
       "\n",
       "    .dataframe thead th {\n",
       "        text-align: right;\n",
       "    }\n",
       "</style>\n",
       "<table border=\"1\" class=\"dataframe\">\n",
       "  <thead>\n",
       "    <tr style=\"text-align: right;\">\n",
       "      <th></th>\n",
       "      <th>coefs</th>\n",
       "    </tr>\n",
       "  </thead>\n",
       "  <tbody>\n",
       "    <tr>\n",
       "      <th>1of1_rarity</th>\n",
       "      <td>-8.544324e+08</td>\n",
       "    </tr>\n",
       "    <tr>\n",
       "      <th>watch_rarity</th>\n",
       "      <td>-1.324767e+03</td>\n",
       "    </tr>\n",
       "    <tr>\n",
       "      <th>background_rarity</th>\n",
       "      <td>-4.199414e+04</td>\n",
       "    </tr>\n",
       "    <tr>\n",
       "      <th>beard_rarity</th>\n",
       "      <td>-1.318104e+03</td>\n",
       "    </tr>\n",
       "    <tr>\n",
       "      <th>chain_rarity</th>\n",
       "      <td>5.094388e+03</td>\n",
       "    </tr>\n",
       "    <tr>\n",
       "      <th>eyes_rarity</th>\n",
       "      <td>5.169688e+02</td>\n",
       "    </tr>\n",
       "    <tr>\n",
       "      <th>hat_over_headphones_rarity</th>\n",
       "      <td>1.684408e+05</td>\n",
       "    </tr>\n",
       "    <tr>\n",
       "      <th>hat_under_headphones_rarity</th>\n",
       "      <td>-2.902141e+04</td>\n",
       "    </tr>\n",
       "    <tr>\n",
       "      <th>headphones_rarity</th>\n",
       "      <td>1.465757e+02</td>\n",
       "    </tr>\n",
       "    <tr>\n",
       "      <th>long_hair_rarity</th>\n",
       "      <td>-9.084192e+02</td>\n",
       "    </tr>\n",
       "    <tr>\n",
       "      <th>mouth_rarity</th>\n",
       "      <td>-5.679166e+02</td>\n",
       "    </tr>\n",
       "    <tr>\n",
       "      <th>shirt_rarity</th>\n",
       "      <td>-6.804061e+03</td>\n",
       "    </tr>\n",
       "    <tr>\n",
       "      <th>short_hair_rarity</th>\n",
       "      <td>-2.297432e+04</td>\n",
       "    </tr>\n",
       "    <tr>\n",
       "      <th>smoke_rarity</th>\n",
       "      <td>-6.081212e+02</td>\n",
       "    </tr>\n",
       "    <tr>\n",
       "      <th>type_rarity</th>\n",
       "      <td>3.055163e+01</td>\n",
       "    </tr>\n",
       "    <tr>\n",
       "      <th>rarity_score</th>\n",
       "      <td>1.126190e+01</td>\n",
       "    </tr>\n",
       "    <tr>\n",
       "      <th>1d_avg_price</th>\n",
       "      <td>1.891146e-21</td>\n",
       "    </tr>\n",
       "    <tr>\n",
       "      <th>7d_avg_price</th>\n",
       "      <td>2.511659e-21</td>\n",
       "    </tr>\n",
       "    <tr>\n",
       "      <th>30d_avg_price</th>\n",
       "      <td>6.279149e-22</td>\n",
       "    </tr>\n",
       "    <tr>\n",
       "      <th>average_price</th>\n",
       "      <td>0.000000e+00</td>\n",
       "    </tr>\n",
       "    <tr>\n",
       "      <th>floor_price</th>\n",
       "      <td>-6.279149e-22</td>\n",
       "    </tr>\n",
       "  </tbody>\n",
       "</table>\n",
       "</div>"
      ],
      "text/plain": [
       "                                    coefs\n",
       "1of1_rarity                 -8.544324e+08\n",
       "watch_rarity                -1.324767e+03\n",
       "background_rarity           -4.199414e+04\n",
       "beard_rarity                -1.318104e+03\n",
       "chain_rarity                 5.094388e+03\n",
       "eyes_rarity                  5.169688e+02\n",
       "hat_over_headphones_rarity   1.684408e+05\n",
       "hat_under_headphones_rarity -2.902141e+04\n",
       "headphones_rarity            1.465757e+02\n",
       "long_hair_rarity            -9.084192e+02\n",
       "mouth_rarity                -5.679166e+02\n",
       "shirt_rarity                -6.804061e+03\n",
       "short_hair_rarity           -2.297432e+04\n",
       "smoke_rarity                -6.081212e+02\n",
       "type_rarity                  3.055163e+01\n",
       "rarity_score                 1.126190e+01\n",
       "1d_avg_price                 1.891146e-21\n",
       "7d_avg_price                 2.511659e-21\n",
       "30d_avg_price                6.279149e-22\n",
       "average_price                0.000000e+00\n",
       "floor_price                 -6.279149e-22"
      ]
     },
     "execution_count": 9,
     "metadata": {},
     "output_type": "execute_result"
    }
   ],
   "source": [
    "#dataframe of best preliminary model's coefs\n",
    "\n",
    "pd.DataFrame(dict(zip(df_lim.drop(columns=non_cols+feature_cols+score_cols[:-1]).columns, lr.coef_)), index=['coefs']).T"
   ]
  },
  {
   "cell_type": "code",
   "execution_count": 10,
   "id": "faebeca1-ebd3-47c3-ab21-5f540376603c",
   "metadata": {},
   "outputs": [
    {
     "data": {
      "text/plain": [
       "(0.23462589765254394, 0.2615725451494799)"
      ]
     },
     "execution_count": 10,
     "metadata": {},
     "output_type": "execute_result"
    }
   ],
   "source": [
    "# how does regularization affect model performance:\n",
    "\n",
    "X = df_lim.drop(columns=non_cols+feature_cols+score_cols[:-1])\n",
    "y = df_lim['priceUsd']\n",
    "\n",
    "X_train, X_test, y_train, y_test = train_test_split(X, y, random_state=42)\n",
    "\n",
    "z=StandardScaler()\n",
    "Z_train = z.fit_transform(X_train)\n",
    "Z_test = z.transform(X_test)\n",
    "\n",
    "ls = LassoCV(cv=5, random_state=42)\n",
    "ls.fit(Z_train, y_train)\n",
    "ls.score(Z_train, y_train), ls.score(Z_test, y_test)"
   ]
  },
  {
   "cell_type": "code",
   "execution_count": 11,
   "id": "ef74f6e8-4f47-48fa-9a42-1e6cfcd9d7b4",
   "metadata": {},
   "outputs": [
    {
     "data": {
      "text/plain": [
       "(0.23463863016668107, 0.26171456881287525)"
      ]
     },
     "execution_count": 11,
     "metadata": {},
     "output_type": "execute_result"
    }
   ],
   "source": [
    "#using lasso cv to optimize alpha (regularization coefficient)\n",
    "\n",
    "X = df_lim.drop(columns=non_cols+feature_cols+score_cols[:-1])\n",
    "y = df_lim['priceUsd']\n",
    "\n",
    "X_train, X_test, y_train, y_test = train_test_split(X, y, random_state=42)\n",
    "\n",
    "z=StandardScaler()\n",
    "Z_train = z.fit_transform(X_train)\n",
    "Z_test = z.transform(X_test)\n",
    "\n",
    "l_alphas=np.linspace(0.000001, .3, 25)\n",
    "\n",
    "# Cross-validate over our list of Lasso alphas.\n",
    "lcv = LassoCV(alphas=l_alphas)\n",
    "\n",
    "lcv.fit(Z_train,y_train)\n",
    "lcv.score(Z_train,y_train), lcv.score(Z_test,y_test)"
   ]
  },
  {
   "cell_type": "code",
   "execution_count": 12,
   "id": "153291c8-57da-4757-9d27-521b72c57904",
   "metadata": {},
   "outputs": [
    {
     "data": {
      "text/plain": [
       "1e-06"
      ]
     },
     "execution_count": 12,
     "metadata": {},
     "output_type": "execute_result"
    }
   ],
   "source": [
    "#optimal alpha is the weakest reg. coef. offered to the cross validator; regularization has a negigible  effect\n",
    "lcv.alpha_"
   ]
  },
  {
   "cell_type": "code",
   "execution_count": 13,
   "id": "4d546937-728b-4803-ba39-4caf9587edfe",
   "metadata": {},
   "outputs": [
    {
     "name": "stdout",
     "output_type": "stream",
     "text": [
      "Fitting 5 folds for each of 24 candidates, totalling 120 fits\n"
     ]
    },
    {
     "data": {
      "text/plain": [
       "(0.17195050154944164,\n",
       " {'pf__degree': 1,\n",
       "  'pf__interaction_only': True,\n",
       "  'ss__with_mean': True,\n",
       "  'ss__with_std': False})"
      ]
     },
     "execution_count": 13,
     "metadata": {},
     "output_type": "execute_result"
    }
   ],
   "source": [
    "#using gridsearch to test parameters of scaling and polynomial features\n",
    "\n",
    "X = df_lim.drop(columns=non_cols+feature_cols+score_cols[:-1])\n",
    "y = df_lim['priceUsd']\n",
    "\n",
    "X_train, X_test, y_train, y_test = train_test_split(X, y, random_state=42)\n",
    "\n",
    "pipe = Pipeline([\n",
    "    ('ss', StandardScaler()),\n",
    "    ('pf', PolynomialFeatures()),\n",
    "    ('lr', LinearRegression())\n",
    "])\n",
    "\n",
    "params={\n",
    "    'ss__with_mean':[True, False],\n",
    "    'ss__with_std':[True, False],\n",
    "    'pf__degree':[1, 2, 3],\n",
    "    'pf__interaction_only':[True, False],\n",
    "}\n",
    "\n",
    "gs = GridSearchCV(pipe, params, verbose=1)\n",
    "gs.fit(Z_train, y_train)\n",
    "gs.best_score_, gs.best_params_\n"
   ]
  },
  {
   "cell_type": "code",
   "execution_count": 14,
   "id": "2b26c6dd-ee7e-4b8a-a40d-c99d7b6d8a10",
   "metadata": {},
   "outputs": [],
   "source": [
    "# polynomial features fail to improve r2 score; optimal pf degree = 1"
   ]
  },
  {
   "cell_type": "markdown",
   "id": "eb9aef84-f4ca-4785-aebe-3b712d39c814",
   "metadata": {},
   "source": [
    "------"
   ]
  },
  {
   "cell_type": "markdown",
   "id": "1edf754c-0d8e-4ad8-aa16-1999f4f0c88e",
   "metadata": {},
   "source": [
    "#### Limiting to Most Recent Txns"
   ]
  },
  {
   "cell_type": "code",
   "execution_count": 15,
   "id": "0c7155ed-1c57-4bdc-988a-cd85763fa86f",
   "metadata": {},
   "outputs": [],
   "source": [
    "#modeling on only recent transactions (occurring in 2022)\n",
    "df22 = df.loc[df['date'] > '2022-1-1'].copy()\n",
    "df22_lim = df_lim.loc[df['date'] > '2022-1-1'].copy()"
   ]
  },
  {
   "cell_type": "code",
   "execution_count": 16,
   "id": "c47cbf68-4642-4613-9a6a-648e79deb173",
   "metadata": {},
   "outputs": [
    {
     "data": {
      "text/plain": [
       "((11222, 58), (421, 58))"
      ]
     },
     "execution_count": 16,
     "metadata": {},
     "output_type": "execute_result"
    }
   ],
   "source": [
    "df22.shape, df22_lim.shape"
   ]
  },
  {
   "cell_type": "code",
   "execution_count": 17,
   "id": "2b6e292c-78bc-4136-81a6-6f1582f61bdc",
   "metadata": {},
   "outputs": [
    {
     "data": {
      "text/plain": [
       "(0.21978364876676548, 0.3182254130647323)"
      ]
     },
     "execution_count": 17,
     "metadata": {},
     "output_type": "execute_result"
    }
   ],
   "source": [
    "#best performer thus far models on all transactions occurring in 2022, also modified train_size\n",
    "\n",
    "X = df22.drop(columns=non_cols+feature_cols+rarity_cols)\n",
    "y = df22['priceUsd']\n",
    "\n",
    "X_train, X_test, y_train, y_test = train_test_split(X, y, random_state=42, train_size=0.9)\n",
    "\n",
    "lr = LinearRegression()\n",
    "lr.fit(X_train, y_train)\n",
    "lr.score(X_train, y_train), lr.score(X_test, y_test)"
   ]
  },
  {
   "cell_type": "code",
   "execution_count": 18,
   "id": "4e0242a1-b06a-405a-8292-1f1b59596f86",
   "metadata": {},
   "outputs": [
    {
     "data": {
      "text/plain": [
       "(0.6869250470949767, 0.20585332940551793)"
      ]
     },
     "execution_count": 18,
     "metadata": {},
     "output_type": "execute_result"
    }
   ],
   "source": [
    "#huge spike in training score modeling on 2022 txn'slimited to 1 per nft in collection; probable that test set includes some anomalous trades with rare tokens of features unseen before\n",
    "#modified train_size\n",
    "\n",
    "X = df22_lim.drop(columns=non_cols+feature_cols+score_cols[:-1])\n",
    "y = df22_lim['priceUsd']\n",
    "\n",
    "X_train, X_test, y_train, y_test = train_test_split(X, y, random_state=42, train_size=0.9)\n",
    "\n",
    "lr = LinearRegression()\n",
    "lr.fit(X_train, y_train)\n",
    "lr.score(X_train, y_train), lr.score(X_test, y_test)"
   ]
  },
  {
   "cell_type": "code",
   "execution_count": 19,
   "id": "6c8eebc9-8b36-4ef4-8938-455a52aa4b98",
   "metadata": {},
   "outputs": [
    {
     "data": {
      "text/plain": [
       "(0.22327458497209574, 0.33605290370942076)"
      ]
     },
     "execution_count": 19,
     "metadata": {},
     "output_type": "execute_result"
    }
   ],
   "source": [
    "#circled back to preliminary models and found adjusting train_size beat the models using the 2022 data\n",
    "\n",
    "X = df.drop(columns=non_cols+feature_cols+rarity_cols)\n",
    "y = df['priceUsd']\n",
    "\n",
    "X_train, X_test, y_train, y_test = train_test_split(X, y, random_state=42, train_size=0.95)\n",
    "\n",
    "lr = LinearRegression()\n",
    "lr.fit(X_train, y_train)\n",
    "lr.score(X_train, y_train), lr.score(X_test, y_test)"
   ]
  },
  {
   "cell_type": "code",
   "execution_count": 20,
   "id": "5f79c41a-4a0a-41b8-b7a2-405c9790a83b",
   "metadata": {},
   "outputs": [
    {
     "data": {
      "text/plain": [
       "(0.23113187019839154, 0.27874030810123984)"
      ]
     },
     "execution_count": 20,
     "metadata": {},
     "output_type": "execute_result"
    }
   ],
   "source": [
    "#interesting note: while a 0.95 train size optimizes scores for full transaction df, df_lim model is optimized with a 0.8 train_size\n",
    "\n",
    "X = df_lim.drop(columns=non_cols+feature_cols+score_cols[:-1])\n",
    "y = df_lim['priceUsd']\n",
    "\n",
    "X_train, X_test, y_train, y_test = train_test_split(X, y, random_state=42, train_size=0.8)\n",
    "\n",
    "lr = LinearRegression()\n",
    "lr.fit(X_train, y_train)\n",
    "lr.score(X_train, y_train), lr.score(X_test, y_test)"
   ]
  },
  {
   "cell_type": "markdown",
   "id": "1753623c-07ab-4898-9731-48f53f30f12e",
   "metadata": {},
   "source": [
    "------"
   ]
  },
  {
   "cell_type": "markdown",
   "id": "9293f5c0-98f1-446a-be95-d001e99372f1",
   "metadata": {},
   "source": [
    "#### More Feature Engineering"
   ]
  },
  {
   "cell_type": "code",
   "execution_count": 21,
   "id": "d9abb1ae-8b8c-40b2-b526-f9c4aa347da9",
   "metadata": {},
   "outputs": [],
   "source": [
    "#tweaking models and subsetting transaction data isn't beiing reflected by improved model performance\n",
    "#for this reason I'm going to engineer additional features that focus on recent transactions\n",
    "#I am predisposed to believe that momentum is a leading driver of nft price so intuitively want to include new features for the model to train on rooted in an availability bias"
   ]
  },
  {
   "cell_type": "code",
   "execution_count": 22,
   "id": "1520e4ca-d1b8-4a7b-8abd-aa26dfeb0ffc",
   "metadata": {},
   "outputs": [
    {
     "data": {
      "text/plain": [
       "(19784, 58)"
      ]
     },
     "execution_count": 22,
     "metadata": {},
     "output_type": "execute_result"
    }
   ],
   "source": [
    "df.shape"
   ]
  },
  {
   "cell_type": "code",
   "execution_count": 23,
   "id": "474db2fa-298d-431c-aefc-30f85736e3ef",
   "metadata": {},
   "outputs": [
    {
     "data": {
      "text/html": [
       "<div>\n",
       "<style scoped>\n",
       "    .dataframe tbody tr th:only-of-type {\n",
       "        vertical-align: middle;\n",
       "    }\n",
       "\n",
       "    .dataframe tbody tr th {\n",
       "        vertical-align: top;\n",
       "    }\n",
       "\n",
       "    .dataframe thead th {\n",
       "        text-align: right;\n",
       "    }\n",
       "</style>\n",
       "<table border=\"1\" class=\"dataframe\">\n",
       "  <thead>\n",
       "    <tr style=\"text-align: right;\">\n",
       "      <th></th>\n",
       "      <th>date</th>\n",
       "      <th>token_id</th>\n",
       "      <th>payment</th>\n",
       "      <th>buyer</th>\n",
       "      <th>seller</th>\n",
       "      <th>price</th>\n",
       "      <th>priceUsd</th>\n",
       "      <th>1/1</th>\n",
       "      <th>4:20 watch</th>\n",
       "      <th>background</th>\n",
       "      <th>...</th>\n",
       "      <th>shirt_score</th>\n",
       "      <th>short_hair_score</th>\n",
       "      <th>smoke_score</th>\n",
       "      <th>type_score</th>\n",
       "      <th>rarity_score</th>\n",
       "      <th>1d_avg_price</th>\n",
       "      <th>7d_avg_price</th>\n",
       "      <th>30d_avg_price</th>\n",
       "      <th>average_price</th>\n",
       "      <th>floor_price</th>\n",
       "    </tr>\n",
       "  </thead>\n",
       "  <tbody>\n",
       "    <tr>\n",
       "      <th>0</th>\n",
       "      <td>2021-11-30 21:27:04+00:00</td>\n",
       "      <td>367</td>\n",
       "      <td>ETH</td>\n",
       "      <td>0xa76ae53049e3c5f8f30954f804da503b15040cc1</td>\n",
       "      <td>0xb3d6dbc54ed91bcc84da7871fc9e146e7f13c496</td>\n",
       "      <td>1.00</td>\n",
       "      <td>4650.538658</td>\n",
       "      <td>0</td>\n",
       "      <td>sub lantern (green)</td>\n",
       "      <td>graveyard</td>\n",
       "      <td>...</td>\n",
       "      <td>33.112583</td>\n",
       "      <td>0.0</td>\n",
       "      <td>2.677376</td>\n",
       "      <td>112.359551</td>\n",
       "      <td>536.950704</td>\n",
       "      <td>3.235565</td>\n",
       "      <td>4.122053</td>\n",
       "      <td>2.510842</td>\n",
       "      <td>1.147349</td>\n",
       "      <td>2.79</td>\n",
       "    </tr>\n",
       "    <tr>\n",
       "      <th>1</th>\n",
       "      <td>2021-11-30 21:29:41+00:00</td>\n",
       "      <td>5039</td>\n",
       "      <td>ETH</td>\n",
       "      <td>0xde06ffb76c61b51d11aa593b5fe175a59d43e78f</td>\n",
       "      <td>0x6a61925dcdf27d8b28c11ec76228b4195a978069</td>\n",
       "      <td>0.69</td>\n",
       "      <td>3208.871674</td>\n",
       "      <td>0</td>\n",
       "      <td>sub lantern (green)</td>\n",
       "      <td>orange</td>\n",
       "      <td>...</td>\n",
       "      <td>18.148820</td>\n",
       "      <td>0.0</td>\n",
       "      <td>2.624672</td>\n",
       "      <td>1.690331</td>\n",
       "      <td>247.762786</td>\n",
       "      <td>3.235565</td>\n",
       "      <td>4.122053</td>\n",
       "      <td>2.510842</td>\n",
       "      <td>1.147349</td>\n",
       "      <td>2.79</td>\n",
       "    </tr>\n",
       "    <tr>\n",
       "      <th>2</th>\n",
       "      <td>2021-11-30 21:32:17+00:00</td>\n",
       "      <td>5172</td>\n",
       "      <td>ETH</td>\n",
       "      <td>0x11f8704d371012c691e786341f8f9ab20d63e629</td>\n",
       "      <td>0xd15b046342bc19ea520254b0c16c6a3fcaa372b1</td>\n",
       "      <td>0.46</td>\n",
       "      <td>2139.247783</td>\n",
       "      <td>0</td>\n",
       "      <td>0</td>\n",
       "      <td>blue</td>\n",
       "      <td>...</td>\n",
       "      <td>0.000000</td>\n",
       "      <td>0.0</td>\n",
       "      <td>13.386881</td>\n",
       "      <td>1.690331</td>\n",
       "      <td>32.150504</td>\n",
       "      <td>3.235565</td>\n",
       "      <td>4.122053</td>\n",
       "      <td>2.510842</td>\n",
       "      <td>1.147349</td>\n",
       "      <td>2.79</td>\n",
       "    </tr>\n",
       "  </tbody>\n",
       "</table>\n",
       "<p>3 rows × 58 columns</p>\n",
       "</div>"
      ],
      "text/plain": [
       "                       date  token_id payment  \\\n",
       "0 2021-11-30 21:27:04+00:00       367     ETH   \n",
       "1 2021-11-30 21:29:41+00:00      5039     ETH   \n",
       "2 2021-11-30 21:32:17+00:00      5172     ETH   \n",
       "\n",
       "                                        buyer  \\\n",
       "0  0xa76ae53049e3c5f8f30954f804da503b15040cc1   \n",
       "1  0xde06ffb76c61b51d11aa593b5fe175a59d43e78f   \n",
       "2  0x11f8704d371012c691e786341f8f9ab20d63e629   \n",
       "\n",
       "                                       seller  price     priceUsd 1/1  \\\n",
       "0  0xb3d6dbc54ed91bcc84da7871fc9e146e7f13c496   1.00  4650.538658   0   \n",
       "1  0x6a61925dcdf27d8b28c11ec76228b4195a978069   0.69  3208.871674   0   \n",
       "2  0xd15b046342bc19ea520254b0c16c6a3fcaa372b1   0.46  2139.247783   0   \n",
       "\n",
       "            4:20 watch background  ... shirt_score short_hair_score  \\\n",
       "0  sub lantern (green)  graveyard  ...   33.112583              0.0   \n",
       "1  sub lantern (green)     orange  ...   18.148820              0.0   \n",
       "2                    0       blue  ...    0.000000              0.0   \n",
       "\n",
       "  smoke_score  type_score rarity_score 1d_avg_price 7d_avg_price  \\\n",
       "0    2.677376  112.359551   536.950704     3.235565     4.122053   \n",
       "1    2.624672    1.690331   247.762786     3.235565     4.122053   \n",
       "2   13.386881    1.690331    32.150504     3.235565     4.122053   \n",
       "\n",
       "  30d_avg_price average_price floor_price  \n",
       "0      2.510842      1.147349        2.79  \n",
       "1      2.510842      1.147349        2.79  \n",
       "2      2.510842      1.147349        2.79  \n",
       "\n",
       "[3 rows x 58 columns]"
      ]
     },
     "execution_count": 23,
     "metadata": {},
     "output_type": "execute_result"
    }
   ],
   "source": [
    "df.head(3)"
   ]
  },
  {
   "cell_type": "code",
   "execution_count": 24,
   "id": "7257cbe0-d1c4-4445-9707-f0cbc2623a19",
   "metadata": {},
   "outputs": [
    {
     "data": {
      "text/plain": [
       "(19784, 58)"
      ]
     },
     "execution_count": 24,
     "metadata": {},
     "output_type": "execute_result"
    }
   ],
   "source": [
    "test=df.copy()\n",
    "test.shape"
   ]
  },
  {
   "cell_type": "code",
   "execution_count": 25,
   "id": "d70dde80-9276-4b90-944a-3980ca24c4b2",
   "metadata": {},
   "outputs": [],
   "source": [
    "#borrowing from time series modeling concepts: \n",
    "#creating rolling avg/min/max features for each trransaction using somewhat arbitrary windows of 10 & 25 txns\n",
    "\n",
    "#last 10 rolling mean/max/min\n",
    "test['last_10_avg'] = test.priceUsd.rolling(window=10).mean()\n",
    "test['last_10_max'] = test.priceUsd.rolling(window=10).max()\n",
    "test['last_10_min'] = test.priceUsd.rolling(window=10).min()\n",
    "\n",
    "#last 25 rolling mean/max/min\n",
    "test['last_25_avg'] = test.priceUsd.rolling(window=25).mean()\n",
    "test['last_25_max'] = test.priceUsd.rolling(window=25).max()\n",
    "test['last_25_min'] = test.priceUsd.rolling(window=25).min()\n",
    "\n",
    "#creating a feature that is simply the sales price in the most recent transaction\n",
    "#calculate last_sale_price\n",
    "\n",
    "test['last_sale_price'] = test['price'].shift()"
   ]
  },
  {
   "cell_type": "code",
   "execution_count": 26,
   "id": "98d06d22-ef5c-4f34-9fdc-7e046ca66ede",
   "metadata": {},
   "outputs": [
    {
     "data": {
      "text/plain": [
       "(19760, 65)"
      ]
     },
     "execution_count": 26,
     "metadata": {},
     "output_type": "execute_result"
    }
   ],
   "source": [
    "#dropping nan's produced by these transformations/engineeerred features\n",
    "test = test.dropna()\n",
    "test.shape"
   ]
  },
  {
   "cell_type": "code",
   "execution_count": 27,
   "id": "09542429-cd21-43e8-a20e-64c20cf3d5ab",
   "metadata": {},
   "outputs": [
    {
     "data": {
      "text/html": [
       "<div>\n",
       "<style scoped>\n",
       "    .dataframe tbody tr th:only-of-type {\n",
       "        vertical-align: middle;\n",
       "    }\n",
       "\n",
       "    .dataframe tbody tr th {\n",
       "        vertical-align: top;\n",
       "    }\n",
       "\n",
       "    .dataframe thead th {\n",
       "        text-align: right;\n",
       "    }\n",
       "</style>\n",
       "<table border=\"1\" class=\"dataframe\">\n",
       "  <thead>\n",
       "    <tr style=\"text-align: right;\">\n",
       "      <th></th>\n",
       "      <th>date</th>\n",
       "      <th>token_id</th>\n",
       "      <th>payment</th>\n",
       "      <th>buyer</th>\n",
       "      <th>seller</th>\n",
       "      <th>price</th>\n",
       "      <th>priceUsd</th>\n",
       "      <th>1/1</th>\n",
       "      <th>4:20 watch</th>\n",
       "      <th>background</th>\n",
       "      <th>...</th>\n",
       "      <th>30d_avg_price</th>\n",
       "      <th>average_price</th>\n",
       "      <th>floor_price</th>\n",
       "      <th>last_10_avg</th>\n",
       "      <th>last_10_max</th>\n",
       "      <th>last_10_min</th>\n",
       "      <th>last_25_avg</th>\n",
       "      <th>last_25_max</th>\n",
       "      <th>last_25_min</th>\n",
       "      <th>last_sale_price</th>\n",
       "    </tr>\n",
       "  </thead>\n",
       "  <tbody>\n",
       "    <tr>\n",
       "      <th>31</th>\n",
       "      <td>2021-11-30 21:35:15+00:00</td>\n",
       "      <td>1848</td>\n",
       "      <td>ETH</td>\n",
       "      <td>0xdd6d3324c75a5ae1480ef9f3394702dc28adb65e</td>\n",
       "      <td>0x97da20dc2bd46174da79d71a385b7248527fbee6</td>\n",
       "      <td>0.349</td>\n",
       "      <td>1623.037992</td>\n",
       "      <td>0</td>\n",
       "      <td>sub rose</td>\n",
       "      <td>blue</td>\n",
       "      <td>...</td>\n",
       "      <td>2.510842</td>\n",
       "      <td>1.147349</td>\n",
       "      <td>2.79</td>\n",
       "      <td>1833.707393</td>\n",
       "      <td>2325.269329</td>\n",
       "      <td>1581.183144</td>\n",
       "      <td>2232.053932</td>\n",
       "      <td>4650.538658</td>\n",
       "      <td>1581.183144</td>\n",
       "      <td>0.340</td>\n",
       "    </tr>\n",
       "    <tr>\n",
       "      <th>24</th>\n",
       "      <td>2021-11-30 21:35:15+00:00</td>\n",
       "      <td>6531</td>\n",
       "      <td>ETH</td>\n",
       "      <td>0xc2690edde996e5c56c9b7fafcdbdf257a780446b</td>\n",
       "      <td>0x7c121489e50e6672bbb59cc4c3fc86eaa8fb8364</td>\n",
       "      <td>0.350</td>\n",
       "      <td>1627.688530</td>\n",
       "      <td>0</td>\n",
       "      <td>sub black</td>\n",
       "      <td>blue</td>\n",
       "      <td>...</td>\n",
       "      <td>2.510842</td>\n",
       "      <td>1.147349</td>\n",
       "      <td>2.79</td>\n",
       "      <td>1819.755777</td>\n",
       "      <td>2325.269329</td>\n",
       "      <td>1581.183144</td>\n",
       "      <td>2111.139927</td>\n",
       "      <td>4418.011725</td>\n",
       "      <td>1581.183144</td>\n",
       "      <td>0.349</td>\n",
       "    </tr>\n",
       "    <tr>\n",
       "      <th>25</th>\n",
       "      <td>2021-11-30 21:35:15+00:00</td>\n",
       "      <td>4147</td>\n",
       "      <td>ETH</td>\n",
       "      <td>0xa7856843b4298a55a23a902ced79cc63c880d0d7</td>\n",
       "      <td>0x9e9b7dc5a0cfa97e3cc984d836d969ac13746951</td>\n",
       "      <td>0.385</td>\n",
       "      <td>1790.457383</td>\n",
       "      <td>0</td>\n",
       "      <td>sub red</td>\n",
       "      <td>red</td>\n",
       "      <td>...</td>\n",
       "      <td>2.510842</td>\n",
       "      <td>1.147349</td>\n",
       "      <td>2.79</td>\n",
       "      <td>1792.317599</td>\n",
       "      <td>2325.269329</td>\n",
       "      <td>1581.183144</td>\n",
       "      <td>2054.403355</td>\n",
       "      <td>4418.011725</td>\n",
       "      <td>1581.183144</td>\n",
       "      <td>0.350</td>\n",
       "    </tr>\n",
       "    <tr>\n",
       "      <th>26</th>\n",
       "      <td>2021-11-30 21:35:15+00:00</td>\n",
       "      <td>6176</td>\n",
       "      <td>ETH</td>\n",
       "      <td>0xd6a4eb571e6812d72f86076e9d2f902fef288278</td>\n",
       "      <td>0xf50131d7d2b5239fe1e934658fe3f6131532a437</td>\n",
       "      <td>0.450</td>\n",
       "      <td>2092.742396</td>\n",
       "      <td>0</td>\n",
       "      <td>0</td>\n",
       "      <td>blue</td>\n",
       "      <td>...</td>\n",
       "      <td>2.510842</td>\n",
       "      <td>1.147349</td>\n",
       "      <td>2.79</td>\n",
       "      <td>1769.064905</td>\n",
       "      <td>2325.269329</td>\n",
       "      <td>1581.183144</td>\n",
       "      <td>2052.543140</td>\n",
       "      <td>4418.011725</td>\n",
       "      <td>1581.183144</td>\n",
       "      <td>0.385</td>\n",
       "    </tr>\n",
       "    <tr>\n",
       "      <th>27</th>\n",
       "      <td>2021-11-30 21:35:15+00:00</td>\n",
       "      <td>7061</td>\n",
       "      <td>ETH</td>\n",
       "      <td>0x2ab5cf2e5b79a96bf70302de6f799c80e2a4b7cf</td>\n",
       "      <td>0xdf3fb2a51568f84c2fbafea5f8ad039b8d931b12</td>\n",
       "      <td>0.400</td>\n",
       "      <td>1860.215463</td>\n",
       "      <td>0</td>\n",
       "      <td>0</td>\n",
       "      <td>green</td>\n",
       "      <td>...</td>\n",
       "      <td>2.510842</td>\n",
       "      <td>1.147349</td>\n",
       "      <td>2.79</td>\n",
       "      <td>1785.341791</td>\n",
       "      <td>2325.269329</td>\n",
       "      <td>1581.183144</td>\n",
       "      <td>1998.596891</td>\n",
       "      <td>4418.011725</td>\n",
       "      <td>1581.183144</td>\n",
       "      <td>0.450</td>\n",
       "    </tr>\n",
       "  </tbody>\n",
       "</table>\n",
       "<p>5 rows × 65 columns</p>\n",
       "</div>"
      ],
      "text/plain": [
       "                        date  token_id payment  \\\n",
       "31 2021-11-30 21:35:15+00:00      1848     ETH   \n",
       "24 2021-11-30 21:35:15+00:00      6531     ETH   \n",
       "25 2021-11-30 21:35:15+00:00      4147     ETH   \n",
       "26 2021-11-30 21:35:15+00:00      6176     ETH   \n",
       "27 2021-11-30 21:35:15+00:00      7061     ETH   \n",
       "\n",
       "                                         buyer  \\\n",
       "31  0xdd6d3324c75a5ae1480ef9f3394702dc28adb65e   \n",
       "24  0xc2690edde996e5c56c9b7fafcdbdf257a780446b   \n",
       "25  0xa7856843b4298a55a23a902ced79cc63c880d0d7   \n",
       "26  0xd6a4eb571e6812d72f86076e9d2f902fef288278   \n",
       "27  0x2ab5cf2e5b79a96bf70302de6f799c80e2a4b7cf   \n",
       "\n",
       "                                        seller  price     priceUsd 1/1  \\\n",
       "31  0x97da20dc2bd46174da79d71a385b7248527fbee6  0.349  1623.037992   0   \n",
       "24  0x7c121489e50e6672bbb59cc4c3fc86eaa8fb8364  0.350  1627.688530   0   \n",
       "25  0x9e9b7dc5a0cfa97e3cc984d836d969ac13746951  0.385  1790.457383   0   \n",
       "26  0xf50131d7d2b5239fe1e934658fe3f6131532a437  0.450  2092.742396   0   \n",
       "27  0xdf3fb2a51568f84c2fbafea5f8ad039b8d931b12  0.400  1860.215463   0   \n",
       "\n",
       "   4:20 watch background  ... 30d_avg_price average_price floor_price  \\\n",
       "31   sub rose       blue  ...      2.510842      1.147349        2.79   \n",
       "24  sub black       blue  ...      2.510842      1.147349        2.79   \n",
       "25    sub red        red  ...      2.510842      1.147349        2.79   \n",
       "26          0       blue  ...      2.510842      1.147349        2.79   \n",
       "27          0      green  ...      2.510842      1.147349        2.79   \n",
       "\n",
       "    last_10_avg  last_10_max  last_10_min  last_25_avg  last_25_max  \\\n",
       "31  1833.707393  2325.269329  1581.183144  2232.053932  4650.538658   \n",
       "24  1819.755777  2325.269329  1581.183144  2111.139927  4418.011725   \n",
       "25  1792.317599  2325.269329  1581.183144  2054.403355  4418.011725   \n",
       "26  1769.064905  2325.269329  1581.183144  2052.543140  4418.011725   \n",
       "27  1785.341791  2325.269329  1581.183144  1998.596891  4418.011725   \n",
       "\n",
       "    last_25_min last_sale_price  \n",
       "31  1581.183144           0.340  \n",
       "24  1581.183144           0.349  \n",
       "25  1581.183144           0.350  \n",
       "26  1581.183144           0.385  \n",
       "27  1581.183144           0.450  \n",
       "\n",
       "[5 rows x 65 columns]"
      ]
     },
     "execution_count": 27,
     "metadata": {},
     "output_type": "execute_result"
    }
   ],
   "source": [
    "test.head()"
   ]
  },
  {
   "cell_type": "code",
   "execution_count": 43,
   "id": "5df58568-c0b9-4fa2-9975-85bae9e60cf5",
   "metadata": {},
   "outputs": [
    {
     "data": {
      "text/plain": [
       "(0.806362707447438, 0.8059624297484713)"
      ]
     },
     "execution_count": 43,
     "metadata": {},
     "output_type": "execute_result"
    }
   ],
   "source": [
    "#modeling on all transaction data with the new features\n",
    "\n",
    "X = test.drop(columns=non_cols+feature_cols+rarity_cols)\n",
    "y = test['priceUsd']\n",
    "\n",
    "X_train, X_test, y_train, y_test = train_test_split(X, y, random_state=42, train_size=0.5, shuffle=True)\n",
    "\n",
    "lr = LinearRegression()\n",
    "lr.fit(X_train, y_train)\n",
    "lr.score(X_train, y_train), lr.score(X_test, y_test)"
   ]
  },
  {
   "cell_type": "code",
   "execution_count": 29,
   "id": "a0456734-6ef5-459d-8458-cb2078456c33",
   "metadata": {},
   "outputs": [
    {
     "data": {
      "text/plain": [
       "0.5978231820909549"
      ]
     },
     "execution_count": 29,
     "metadata": {},
     "output_type": "execute_result"
    }
   ],
   "source": [
    "scores = cross_val_score(lr, X, y, cv=10)\n",
    "scores.mean()"
   ]
  },
  {
   "cell_type": "code",
   "execution_count": 30,
   "id": "3e5aaf21-baa1-4353-978e-d9c56c826901",
   "metadata": {},
   "outputs": [],
   "source": [
    "y_preds = lr.predict(X_test)"
   ]
  },
  {
   "cell_type": "code",
   "execution_count": 31,
   "id": "b6f4e9cd-32a9-4c88-98ec-7618d2132444",
   "metadata": {},
   "outputs": [
    {
     "data": {
      "text/html": [
       "<div>\n",
       "<style scoped>\n",
       "    .dataframe tbody tr th:only-of-type {\n",
       "        vertical-align: middle;\n",
       "    }\n",
       "\n",
       "    .dataframe tbody tr th {\n",
       "        vertical-align: top;\n",
       "    }\n",
       "\n",
       "    .dataframe thead th {\n",
       "        text-align: right;\n",
       "    }\n",
       "</style>\n",
       "<table border=\"1\" class=\"dataframe\">\n",
       "  <thead>\n",
       "    <tr style=\"text-align: right;\">\n",
       "      <th></th>\n",
       "      <th>token_id</th>\n",
       "      <th>rarity_score</th>\n",
       "      <th>last_sale_price</th>\n",
       "      <th>price</th>\n",
       "      <th>priceUsd</th>\n",
       "      <th>predictions</th>\n",
       "      <th>residual</th>\n",
       "      <th>abs_residual</th>\n",
       "    </tr>\n",
       "  </thead>\n",
       "  <tbody>\n",
       "    <tr>\n",
       "      <th>19777</th>\n",
       "      <td>905</td>\n",
       "      <td>852.082798</td>\n",
       "      <td>3.00</td>\n",
       "      <td>50.00</td>\n",
       "      <td>132555.351359</td>\n",
       "      <td>37402.644781</td>\n",
       "      <td>95152.706578</td>\n",
       "      <td>95152.706578</td>\n",
       "    </tr>\n",
       "    <tr>\n",
       "      <th>17084</th>\n",
       "      <td>904</td>\n",
       "      <td>3356.067783</td>\n",
       "      <td>2.25</td>\n",
       "      <td>50.00</td>\n",
       "      <td>126373.806442</td>\n",
       "      <td>56605.946659</td>\n",
       "      <td>69767.859783</td>\n",
       "      <td>69767.859783</td>\n",
       "    </tr>\n",
       "    <tr>\n",
       "      <th>17829</th>\n",
       "      <td>2983</td>\n",
       "      <td>473.910244</td>\n",
       "      <td>3.40</td>\n",
       "      <td>22.00</td>\n",
       "      <td>55803.085685</td>\n",
       "      <td>19665.837329</td>\n",
       "      <td>36137.248357</td>\n",
       "      <td>36137.248357</td>\n",
       "    </tr>\n",
       "    <tr>\n",
       "      <th>413</th>\n",
       "      <td>4707</td>\n",
       "      <td>3442.308819</td>\n",
       "      <td>0.22</td>\n",
       "      <td>3.50</td>\n",
       "      <td>16153.897270</td>\n",
       "      <td>46998.831656</td>\n",
       "      <td>-30844.934386</td>\n",
       "      <td>30844.934386</td>\n",
       "    </tr>\n",
       "    <tr>\n",
       "      <th>18884</th>\n",
       "      <td>4657</td>\n",
       "      <td>127.165984</td>\n",
       "      <td>7.99</td>\n",
       "      <td>20.00</td>\n",
       "      <td>50381.478942</td>\n",
       "      <td>20246.768842</td>\n",
       "      <td>30134.710099</td>\n",
       "      <td>30134.710099</td>\n",
       "    </tr>\n",
       "    <tr>\n",
       "      <th>19568</th>\n",
       "      <td>2210</td>\n",
       "      <td>299.295651</td>\n",
       "      <td>2.50</td>\n",
       "      <td>15.00</td>\n",
       "      <td>37845.702467</td>\n",
       "      <td>8481.979344</td>\n",
       "      <td>29363.723123</td>\n",
       "      <td>29363.723123</td>\n",
       "    </tr>\n",
       "    <tr>\n",
       "      <th>16136</th>\n",
       "      <td>7161</td>\n",
       "      <td>363.428213</td>\n",
       "      <td>2.30</td>\n",
       "      <td>15.98</td>\n",
       "      <td>40351.763883</td>\n",
       "      <td>13629.738576</td>\n",
       "      <td>26722.025307</td>\n",
       "      <td>26722.025307</td>\n",
       "    </tr>\n",
       "    <tr>\n",
       "      <th>15973</th>\n",
       "      <td>372</td>\n",
       "      <td>477.524645</td>\n",
       "      <td>1.80</td>\n",
       "      <td>15.00</td>\n",
       "      <td>37877.125047</td>\n",
       "      <td>12700.226751</td>\n",
       "      <td>25176.898296</td>\n",
       "      <td>25176.898296</td>\n",
       "    </tr>\n",
       "    <tr>\n",
       "      <th>15730</th>\n",
       "      <td>8662</td>\n",
       "      <td>752.776034</td>\n",
       "      <td>1.65</td>\n",
       "      <td>20.00</td>\n",
       "      <td>50502.833396</td>\n",
       "      <td>25350.627328</td>\n",
       "      <td>25152.206068</td>\n",
       "      <td>25152.206068</td>\n",
       "    </tr>\n",
       "    <tr>\n",
       "      <th>15215</th>\n",
       "      <td>9651</td>\n",
       "      <td>473.113350</td>\n",
       "      <td>0.93</td>\n",
       "      <td>15.00</td>\n",
       "      <td>37877.125047</td>\n",
       "      <td>13056.471918</td>\n",
       "      <td>24820.653129</td>\n",
       "      <td>24820.653129</td>\n",
       "    </tr>\n",
       "  </tbody>\n",
       "</table>\n",
       "</div>"
      ],
      "text/plain": [
       "       token_id  rarity_score  last_sale_price  price       priceUsd  \\\n",
       "19777       905    852.082798             3.00  50.00  132555.351359   \n",
       "17084       904   3356.067783             2.25  50.00  126373.806442   \n",
       "17829      2983    473.910244             3.40  22.00   55803.085685   \n",
       "413        4707   3442.308819             0.22   3.50   16153.897270   \n",
       "18884      4657    127.165984             7.99  20.00   50381.478942   \n",
       "19568      2210    299.295651             2.50  15.00   37845.702467   \n",
       "16136      7161    363.428213             2.30  15.98   40351.763883   \n",
       "15973       372    477.524645             1.80  15.00   37877.125047   \n",
       "15730      8662    752.776034             1.65  20.00   50502.833396   \n",
       "15215      9651    473.113350             0.93  15.00   37877.125047   \n",
       "\n",
       "        predictions      residual  abs_residual  \n",
       "19777  37402.644781  95152.706578  95152.706578  \n",
       "17084  56605.946659  69767.859783  69767.859783  \n",
       "17829  19665.837329  36137.248357  36137.248357  \n",
       "413    46998.831656 -30844.934386  30844.934386  \n",
       "18884  20246.768842  30134.710099  30134.710099  \n",
       "19568   8481.979344  29363.723123  29363.723123  \n",
       "16136  13629.738576  26722.025307  26722.025307  \n",
       "15973  12700.226751  25176.898296  25176.898296  \n",
       "15730  25350.627328  25152.206068  25152.206068  \n",
       "15215  13056.471918  24820.653129  24820.653129  "
      ]
     },
     "execution_count": 31,
     "metadata": {},
     "output_type": "execute_result"
    }
   ],
   "source": [
    "preds_df = X_test.copy()\n",
    "preds_df['predictions'] = y_preds\n",
    "preds_df = preds_df.merge(test.priceUsd, left_index=True, right_index=True)\n",
    "preds_df = preds_df.merge(test.price, left_index=True, right_index=True)\n",
    "preds_df = preds_df.merge(test.token_id, left_index=True, right_index=True)\n",
    "preds_df = preds_df[['token_id', 'rarity_score', 'last_sale_price', 'price', 'priceUsd', 'predictions']]\n",
    "preds_df['residual'] = preds_df['priceUsd']-preds_df['predictions']\n",
    "preds_df['abs_residual'] = abs(preds_df['priceUsd']-preds_df['predictions'])\n",
    "preds_df = preds_df.sort_values(by='abs_residual', ascending=False)\n",
    "preds_df.head(10)"
   ]
  },
  {
   "cell_type": "code",
   "execution_count": 32,
   "id": "09b8643f-c094-4531-a609-8b7c937ddbc6",
   "metadata": {},
   "outputs": [
    {
     "data": {
      "text/plain": [
       "<matplotlib.collections.PathCollection at 0x7fe41c03ed60>"
      ]
     },
     "execution_count": 32,
     "metadata": {},
     "output_type": "execute_result"
    },
    {
     "data": {
      "image/png": "[encoded data removed]",
      "text/plain": [
       "<Figure size 432x288 with 1 Axes>"
      ]
     },
     "metadata": {
      "needs_background": "light"
     },
     "output_type": "display_data"
    }
   ],
   "source": [
    "plt.scatter(preds_df.residual,preds_df.predictions)"
   ]
  },
  {
   "cell_type": "code",
   "execution_count": 33,
   "id": "050f692e-c58a-4522-b492-7df36d58bd28",
   "metadata": {},
   "outputs": [
    {
     "data": {
      "text/plain": [
       "<matplotlib.collections.PathCollection at 0x7fe41c84eb80>"
      ]
     },
     "execution_count": 33,
     "metadata": {},
     "output_type": "execute_result"
    },
    {
     "data": {
      "image/png": "[encoded data removed]",
      "text/plain": [
       "<Figure size 432x288 with 1 Axes>"
      ]
     },
     "metadata": {
      "needs_background": "light"
     },
     "output_type": "display_data"
    }
   ],
   "source": [
    "plt.scatter(preds_df.rarity_score, preds_df.abs_residual)"
   ]
  },
  {
   "cell_type": "code",
   "execution_count": 34,
   "id": "64fabc08-10c5-4f09-97eb-6d51b635f58d",
   "metadata": {},
   "outputs": [
    {
     "data": {
      "text/html": [
       "<div>\n",
       "<style scoped>\n",
       "    .dataframe tbody tr th:only-of-type {\n",
       "        vertical-align: middle;\n",
       "    }\n",
       "\n",
       "    .dataframe tbody tr th {\n",
       "        vertical-align: top;\n",
       "    }\n",
       "\n",
       "    .dataframe thead th {\n",
       "        text-align: right;\n",
       "    }\n",
       "</style>\n",
       "<table border=\"1\" class=\"dataframe\">\n",
       "  <thead>\n",
       "    <tr style=\"text-align: right;\">\n",
       "      <th></th>\n",
       "      <th>coefs</th>\n",
       "    </tr>\n",
       "  </thead>\n",
       "  <tbody>\n",
       "    <tr>\n",
       "      <th>type_rarity</th>\n",
       "      <td>2.088204e+03</td>\n",
       "    </tr>\n",
       "    <tr>\n",
       "      <th>1of1_score</th>\n",
       "      <td>-4.807479e+00</td>\n",
       "    </tr>\n",
       "    <tr>\n",
       "      <th>watch_score</th>\n",
       "      <td>-5.659738e+00</td>\n",
       "    </tr>\n",
       "    <tr>\n",
       "      <th>background_score</th>\n",
       "      <td>-8.254833e+02</td>\n",
       "    </tr>\n",
       "    <tr>\n",
       "      <th>beard_score</th>\n",
       "      <td>2.896938e+00</td>\n",
       "    </tr>\n",
       "    <tr>\n",
       "      <th>chain_score</th>\n",
       "      <td>2.447727e+00</td>\n",
       "    </tr>\n",
       "    <tr>\n",
       "      <th>eyes_score</th>\n",
       "      <td>-1.871362e+01</td>\n",
       "    </tr>\n",
       "    <tr>\n",
       "      <th>hat_over_headphones_score</th>\n",
       "      <td>2.116199e+01</td>\n",
       "    </tr>\n",
       "    <tr>\n",
       "      <th>hat_under_headphones_score</th>\n",
       "      <td>-2.867071e+00</td>\n",
       "    </tr>\n",
       "    <tr>\n",
       "      <th>headphones_score</th>\n",
       "      <td>-1.661495e+00</td>\n",
       "    </tr>\n",
       "    <tr>\n",
       "      <th>long_hair_score</th>\n",
       "      <td>-1.936141e+01</td>\n",
       "    </tr>\n",
       "    <tr>\n",
       "      <th>mouth_score</th>\n",
       "      <td>1.792540e+01</td>\n",
       "    </tr>\n",
       "    <tr>\n",
       "      <th>shirt_score</th>\n",
       "      <td>-8.153821e+00</td>\n",
       "    </tr>\n",
       "    <tr>\n",
       "      <th>short_hair_score</th>\n",
       "      <td>-4.048178e+00</td>\n",
       "    </tr>\n",
       "    <tr>\n",
       "      <th>smoke_score</th>\n",
       "      <td>-2.654472e+00</td>\n",
       "    </tr>\n",
       "    <tr>\n",
       "      <th>type_score</th>\n",
       "      <td>8.576068e+02</td>\n",
       "    </tr>\n",
       "    <tr>\n",
       "      <th>rarity_score</th>\n",
       "      <td>8.628213e+00</td>\n",
       "    </tr>\n",
       "    <tr>\n",
       "      <th>1d_avg_price</th>\n",
       "      <td>-2.462741e-11</td>\n",
       "    </tr>\n",
       "    <tr>\n",
       "      <th>7d_avg_price</th>\n",
       "      <td>1.105604e-11</td>\n",
       "    </tr>\n",
       "    <tr>\n",
       "      <th>30d_avg_price</th>\n",
       "      <td>6.039613e-12</td>\n",
       "    </tr>\n",
       "    <tr>\n",
       "      <th>average_price</th>\n",
       "      <td>2.643219e-12</td>\n",
       "    </tr>\n",
       "    <tr>\n",
       "      <th>floor_price</th>\n",
       "      <td>-4.138911e-12</td>\n",
       "    </tr>\n",
       "    <tr>\n",
       "      <th>last_10_avg</th>\n",
       "      <td>5.542850e-01</td>\n",
       "    </tr>\n",
       "    <tr>\n",
       "      <th>last_10_max</th>\n",
       "      <td>-5.885902e-03</td>\n",
       "    </tr>\n",
       "    <tr>\n",
       "      <th>last_10_min</th>\n",
       "      <td>2.265218e-01</td>\n",
       "    </tr>\n",
       "    <tr>\n",
       "      <th>last_25_avg</th>\n",
       "      <td>2.652657e-01</td>\n",
       "    </tr>\n",
       "    <tr>\n",
       "      <th>last_25_max</th>\n",
       "      <td>-1.547306e-02</td>\n",
       "    </tr>\n",
       "    <tr>\n",
       "      <th>last_25_min</th>\n",
       "      <td>1.086610e-01</td>\n",
       "    </tr>\n",
       "    <tr>\n",
       "      <th>last_sale_price</th>\n",
       "      <td>-1.393596e+02</td>\n",
       "    </tr>\n",
       "  </tbody>\n",
       "</table>\n",
       "</div>"
      ],
      "text/plain": [
       "                                   coefs\n",
       "type_rarity                 2.088204e+03\n",
       "1of1_score                 -4.807479e+00\n",
       "watch_score                -5.659738e+00\n",
       "background_score           -8.254833e+02\n",
       "beard_score                 2.896938e+00\n",
       "chain_score                 2.447727e+00\n",
       "eyes_score                 -1.871362e+01\n",
       "hat_over_headphones_score   2.116199e+01\n",
       "hat_under_headphones_score -2.867071e+00\n",
       "headphones_score           -1.661495e+00\n",
       "long_hair_score            -1.936141e+01\n",
       "mouth_score                 1.792540e+01\n",
       "shirt_score                -8.153821e+00\n",
       "short_hair_score           -4.048178e+00\n",
       "smoke_score                -2.654472e+00\n",
       "type_score                  8.576068e+02\n",
       "rarity_score                8.628213e+00\n",
       "1d_avg_price               -2.462741e-11\n",
       "7d_avg_price                1.105604e-11\n",
       "30d_avg_price               6.039613e-12\n",
       "average_price               2.643219e-12\n",
       "floor_price                -4.138911e-12\n",
       "last_10_avg                 5.542850e-01\n",
       "last_10_max                -5.885902e-03\n",
       "last_10_min                 2.265218e-01\n",
       "last_25_avg                 2.652657e-01\n",
       "last_25_max                -1.547306e-02\n",
       "last_25_min                 1.086610e-01\n",
       "last_sale_price            -1.393596e+02"
      ]
     },
     "execution_count": 34,
     "metadata": {},
     "output_type": "execute_result"
    }
   ],
   "source": [
    "coef_df = pd.DataFrame(dict(zip(X.columns, lr.coef_)), index=['coefs']).T\n",
    "coef_df"
   ]
  },
  {
   "cell_type": "code",
   "execution_count": 35,
   "id": "edda222b-5eb6-4cb1-aa1b-bec9589553bf",
   "metadata": {},
   "outputs": [
    {
     "data": {
      "text/plain": [
       "[<matplotlib.lines.Line2D at 0x7fe41dae0af0>]"
      ]
     },
     "execution_count": 35,
     "metadata": {},
     "output_type": "execute_result"
    },
    {
     "data": {
      "image/png": "[encoded data removed]",
      "text/plain": [
       "<Figure size 432x288 with 1 Axes>"
      ]
     },
     "metadata": {
      "needs_background": "light"
     },
     "output_type": "display_data"
    }
   ],
   "source": [
    "#if the most recent sales data were able to improve model performance to such a degree, what does this mean about the collection? about nft trading?\n",
    "\n",
    "plt.plot(df.date, df.price)"
   ]
  },
  {
   "cell_type": "code",
   "execution_count": 45,
   "id": "9345839f-9d6c-46ef-a97d-6d1f0e468804",
   "metadata": {},
   "outputs": [],
   "source": [
    "test.to_csv('./data/model_data_v2.csv', index=False)"
   ]
  }
 ],
 "metadata": {
  "kernelspec": {
   "display_name": "Python 3 (ipykernel)",
   "language": "python",
   "name": "python3"
  },
  "language_info": {
   "codemirror_mode": {
    "name": "ipython",
    "version": 3
   },
   "file_extension": ".py",
   "mimetype": "text/x-python",
   "name": "python",
   "nbconvert_exporter": "python",
   "pygments_lexer": "ipython3",
   "version": "3.9.7"
  }
 },
 "nbformat": 4,
 "nbformat_minor": 5
}
