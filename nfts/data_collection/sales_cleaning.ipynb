{
 "cells": [
  {
   "cell_type": "code",
   "execution_count": 1,
   "id": "c95fb74b-3850-41ad-8b69-4e4db7bb6721",
   "metadata": {},
   "outputs": [],
   "source": [
    "import pandas as pd\n",
    "import numpy as np\n",
    "\n",
    "import json\n",
    "import ast"
   ]
  },
  {
   "cell_type": "markdown",
   "id": "8a64b1d2-08dd-4518-ab3b-4afc19ddbe88",
   "metadata": {},
   "source": [
    "#### Cleaning Sales Dataframe"
   ]
  },
  {
   "cell_type": "code",
   "execution_count": 2,
   "id": "7bac2cdd-12b8-4709-9d71-f3dfa160b36b",
   "metadata": {
    "tags": []
   },
   "outputs": [
    {
     "data": {
      "text/html": [
       "<div>\n",
       "<style scoped>\n",
       "    .dataframe tbody tr th:only-of-type {\n",
       "        vertical-align: middle;\n",
       "    }\n",
       "\n",
       "    .dataframe tbody tr th {\n",
       "        vertical-align: top;\n",
       "    }\n",
       "\n",
       "    .dataframe thead th {\n",
       "        text-align: right;\n",
       "    }\n",
       "</style>\n",
       "<table border=\"1\" class=\"dataframe\">\n",
       "  <thead>\n",
       "    <tr style=\"text-align: right;\">\n",
       "      <th></th>\n",
       "      <th>date</th>\n",
       "      <th>nft</th>\n",
       "      <th>payment</th>\n",
       "      <th>buyer</th>\n",
       "      <th>seller</th>\n",
       "      <th>price</th>\n",
       "      <th>priceUsd</th>\n",
       "      <th>amountUsd</th>\n",
       "    </tr>\n",
       "  </thead>\n",
       "  <tbody>\n",
       "    <tr>\n",
       "      <th>0</th>\n",
       "      <td>2022-02-19T05:46:20Z</td>\n",
       "      <td>{'type': {'@type': 'ERC721', 'contract': 'ETHE...</td>\n",
       "      <td>{'type': {'@type': 'ETH', 'blockchain': 'ETHER...</td>\n",
       "      <td>ETHEREUM:0x6365398036d4ef045254fce2e525ac59760...</td>\n",
       "      <td>ETHEREUM:0xe6fe14a30631b22d3f78d9ec7869eb62d6e...</td>\n",
       "      <td>3.30</td>\n",
       "      <td>8370.462853</td>\n",
       "      <td>8370.462853</td>\n",
       "    </tr>\n",
       "    <tr>\n",
       "      <th>1</th>\n",
       "      <td>2022-02-24T02:15:15Z</td>\n",
       "      <td>{'type': {'@type': 'ERC721', 'contract': 'ETHE...</td>\n",
       "      <td>{'type': {'@type': 'ETH', 'blockchain': 'ETHER...</td>\n",
       "      <td>ETHEREUM:0xcb4652bb0396880c3b2609d5a37e19df731...</td>\n",
       "      <td>ETHEREUM:0x6365398036d4ef045254fce2e525ac59760...</td>\n",
       "      <td>3.75</td>\n",
       "      <td>9653.748962</td>\n",
       "      <td>9653.748962</td>\n",
       "    </tr>\n",
       "    <tr>\n",
       "      <th>2</th>\n",
       "      <td>2022-02-07T06:38:47Z</td>\n",
       "      <td>{'type': {'@type': 'ERC721', 'contract': 'ETHE...</td>\n",
       "      <td>{'type': {'@type': 'ETH', 'blockchain': 'ETHER...</td>\n",
       "      <td>ETHEREUM:0xc441eb1f41b06826db885e81486b086294a...</td>\n",
       "      <td>ETHEREUM:0xdb6cfff6c0955676bfa8ce795d5beffbab7...</td>\n",
       "      <td>6.90</td>\n",
       "      <td>17423.477522</td>\n",
       "      <td>17423.477522</td>\n",
       "    </tr>\n",
       "  </tbody>\n",
       "</table>\n",
       "</div>"
      ],
      "text/plain": [
       "                   date                                                nft  \\\n",
       "0  2022-02-19T05:46:20Z  {'type': {'@type': 'ERC721', 'contract': 'ETHE...   \n",
       "1  2022-02-24T02:15:15Z  {'type': {'@type': 'ERC721', 'contract': 'ETHE...   \n",
       "2  2022-02-07T06:38:47Z  {'type': {'@type': 'ERC721', 'contract': 'ETHE...   \n",
       "\n",
       "                                             payment  \\\n",
       "0  {'type': {'@type': 'ETH', 'blockchain': 'ETHER...   \n",
       "1  {'type': {'@type': 'ETH', 'blockchain': 'ETHER...   \n",
       "2  {'type': {'@type': 'ETH', 'blockchain': 'ETHER...   \n",
       "\n",
       "                                               buyer  \\\n",
       "0  ETHEREUM:0x6365398036d4ef045254fce2e525ac59760...   \n",
       "1  ETHEREUM:0xcb4652bb0396880c3b2609d5a37e19df731...   \n",
       "2  ETHEREUM:0xc441eb1f41b06826db885e81486b086294a...   \n",
       "\n",
       "                                              seller  price      priceUsd  \\\n",
       "0  ETHEREUM:0xe6fe14a30631b22d3f78d9ec7869eb62d6e...   3.30   8370.462853   \n",
       "1  ETHEREUM:0x6365398036d4ef045254fce2e525ac59760...   3.75   9653.748962   \n",
       "2  ETHEREUM:0xdb6cfff6c0955676bfa8ce795d5beffbab7...   6.90  17423.477522   \n",
       "\n",
       "      amountUsd  \n",
       "0   8370.462853  \n",
       "1   9653.748962  \n",
       "2  17423.477522  "
      ]
     },
     "execution_count": 2,
     "metadata": {},
     "output_type": "execute_result"
    }
   ],
   "source": [
    "sales = pd.read_csv('./data/sales_raw.csv', index_col=0).drop(columns=['source', 'transactionHash', 'blockchainInfo', 'id', 'buyerOrderHash', 'sellerOrderHash', '@type', 'type'])\n",
    "sales.head(3)"
   ]
  },
  {
   "cell_type": "code",
   "execution_count": 3,
   "id": "1d1c1707-96fd-4dec-8f49-dcad1843bde8",
   "metadata": {},
   "outputs": [],
   "source": [
    "#extracting token_id from 'nft' column\n",
    "\n",
    "def token_grabber(s):\n",
    "    d = ast.literal_eval(s)\n",
    "    return int(d['type']['tokenId'])\n",
    "\n",
    "sales.nft = sales.nft.apply(token_grabber)"
   ]
  },
  {
   "cell_type": "code",
   "execution_count": 4,
   "id": "c63ee0d9-54e3-4f88-a493-f99eda347664",
   "metadata": {},
   "outputs": [
    {
     "data": {
      "text/plain": [
       "pandas._libs.tslibs.timestamps.Timestamp"
      ]
     },
     "execution_count": 4,
     "metadata": {},
     "output_type": "execute_result"
    }
   ],
   "source": [
    "#changing date to pandas datetime format\n",
    "\n",
    "sales.date = pd.to_datetime(sales.date)\n",
    "type(sales.date[0])"
   ]
  },
  {
   "cell_type": "code",
   "execution_count": 5,
   "id": "eae2ba2d-1e3f-4f97-b05c-5367418a95a3",
   "metadata": {},
   "outputs": [],
   "source": [
    "#extracting payment method from payment:\n",
    "\n",
    "def pmtmethod_grabber(s):\n",
    "    d = ast.literal_eval(s)\n",
    "    return d['type']['@type']\n",
    "\n",
    "sales.payment = sales.payment.apply(pmtmethod_grabber)"
   ]
  },
  {
   "cell_type": "code",
   "execution_count": 6,
   "id": "3e43be64-b7e2-4f21-8e22-23dbd7d30220",
   "metadata": {},
   "outputs": [],
   "source": [
    "#extracting buyer address from buyer\n",
    "\n",
    "def address_grabber(s):\n",
    "    address = s.split(':')[-1]\n",
    "    return address\n",
    "\n",
    "sales.buyer = sales.buyer.apply(address_grabber)\n",
    "sales.seller = sales.seller.apply(address_grabber)"
   ]
  },
  {
   "cell_type": "code",
   "execution_count": 7,
   "id": "4b698200-a8ca-4b20-82f5-d5249c172d71",
   "metadata": {},
   "outputs": [
    {
     "data": {
      "text/html": [
       "<div>\n",
       "<style scoped>\n",
       "    .dataframe tbody tr th:only-of-type {\n",
       "        vertical-align: middle;\n",
       "    }\n",
       "\n",
       "    .dataframe tbody tr th {\n",
       "        vertical-align: top;\n",
       "    }\n",
       "\n",
       "    .dataframe thead th {\n",
       "        text-align: right;\n",
       "    }\n",
       "</style>\n",
       "<table border=\"1\" class=\"dataframe\">\n",
       "  <thead>\n",
       "    <tr style=\"text-align: right;\">\n",
       "      <th></th>\n",
       "      <th>date</th>\n",
       "      <th>nft</th>\n",
       "      <th>payment</th>\n",
       "      <th>buyer</th>\n",
       "      <th>seller</th>\n",
       "      <th>price</th>\n",
       "      <th>priceUsd</th>\n",
       "      <th>amountUsd</th>\n",
       "    </tr>\n",
       "  </thead>\n",
       "  <tbody>\n",
       "    <tr>\n",
       "      <th>0</th>\n",
       "      <td>2022-02-19 05:46:20+00:00</td>\n",
       "      <td>37</td>\n",
       "      <td>ETH</td>\n",
       "      <td>0x6365398036d4ef045254fce2e525ac59760b186b</td>\n",
       "      <td>0xe6fe14a30631b22d3f78d9ec7869eb62d6e73daa</td>\n",
       "      <td>3.30</td>\n",
       "      <td>8370.462853</td>\n",
       "      <td>8370.462853</td>\n",
       "    </tr>\n",
       "    <tr>\n",
       "      <th>1</th>\n",
       "      <td>2022-02-24 02:15:15+00:00</td>\n",
       "      <td>37</td>\n",
       "      <td>ETH</td>\n",
       "      <td>0xcb4652bb0396880c3b2609d5a37e19df73180ede</td>\n",
       "      <td>0x6365398036d4ef045254fce2e525ac59760b186b</td>\n",
       "      <td>3.75</td>\n",
       "      <td>9653.748962</td>\n",
       "      <td>9653.748962</td>\n",
       "    </tr>\n",
       "    <tr>\n",
       "      <th>2</th>\n",
       "      <td>2022-02-07 06:38:47+00:00</td>\n",
       "      <td>69</td>\n",
       "      <td>ETH</td>\n",
       "      <td>0xc441eb1f41b06826db885e81486b086294a925fd</td>\n",
       "      <td>0xdb6cfff6c0955676bfa8ce795d5beffbab793298</td>\n",
       "      <td>6.90</td>\n",
       "      <td>17423.477522</td>\n",
       "      <td>17423.477522</td>\n",
       "    </tr>\n",
       "    <tr>\n",
       "      <th>3</th>\n",
       "      <td>2022-02-01 03:59:04+00:00</td>\n",
       "      <td>140</td>\n",
       "      <td>ETH</td>\n",
       "      <td>0x8279648470eb92cbcd00ceb8ca30c2adfac20740</td>\n",
       "      <td>0xdb6cfff6c0955676bfa8ce795d5beffbab793298</td>\n",
       "      <td>10.69</td>\n",
       "      <td>32893.590421</td>\n",
       "      <td>32893.590421</td>\n",
       "    </tr>\n",
       "    <tr>\n",
       "      <th>4</th>\n",
       "      <td>2022-02-10 20:54:29+00:00</td>\n",
       "      <td>140</td>\n",
       "      <td>ETH</td>\n",
       "      <td>0x0c7598889d8ee611e94566d5cac5cc7c62f516da</td>\n",
       "      <td>0xc55db9017f9fa92f514050fb64439a2cac4ec458</td>\n",
       "      <td>12.00</td>\n",
       "      <td>30301.700037</td>\n",
       "      <td>30301.700037</td>\n",
       "    </tr>\n",
       "  </tbody>\n",
       "</table>\n",
       "</div>"
      ],
      "text/plain": [
       "                       date  nft payment  \\\n",
       "0 2022-02-19 05:46:20+00:00   37     ETH   \n",
       "1 2022-02-24 02:15:15+00:00   37     ETH   \n",
       "2 2022-02-07 06:38:47+00:00   69     ETH   \n",
       "3 2022-02-01 03:59:04+00:00  140     ETH   \n",
       "4 2022-02-10 20:54:29+00:00  140     ETH   \n",
       "\n",
       "                                        buyer  \\\n",
       "0  0x6365398036d4ef045254fce2e525ac59760b186b   \n",
       "1  0xcb4652bb0396880c3b2609d5a37e19df73180ede   \n",
       "2  0xc441eb1f41b06826db885e81486b086294a925fd   \n",
       "3  0x8279648470eb92cbcd00ceb8ca30c2adfac20740   \n",
       "4  0x0c7598889d8ee611e94566d5cac5cc7c62f516da   \n",
       "\n",
       "                                       seller  price      priceUsd  \\\n",
       "0  0xe6fe14a30631b22d3f78d9ec7869eb62d6e73daa   3.30   8370.462853   \n",
       "1  0x6365398036d4ef045254fce2e525ac59760b186b   3.75   9653.748962   \n",
       "2  0xdb6cfff6c0955676bfa8ce795d5beffbab793298   6.90  17423.477522   \n",
       "3  0xdb6cfff6c0955676bfa8ce795d5beffbab793298  10.69  32893.590421   \n",
       "4  0xc55db9017f9fa92f514050fb64439a2cac4ec458  12.00  30301.700037   \n",
       "\n",
       "      amountUsd  \n",
       "0   8370.462853  \n",
       "1   9653.748962  \n",
       "2  17423.477522  \n",
       "3  32893.590421  \n",
       "4  30301.700037  "
      ]
     },
     "execution_count": 7,
     "metadata": {},
     "output_type": "execute_result"
    }
   ],
   "source": [
    "sales.head()"
   ]
  },
  {
   "cell_type": "code",
   "execution_count": 8,
   "id": "3497d9b5-fbee-4e5a-80cb-456e196028bf",
   "metadata": {
    "tags": []
   },
   "outputs": [
    {
     "data": {
      "text/html": [
       "<div>\n",
       "<style scoped>\n",
       "    .dataframe tbody tr th:only-of-type {\n",
       "        vertical-align: middle;\n",
       "    }\n",
       "\n",
       "    .dataframe tbody tr th {\n",
       "        vertical-align: top;\n",
       "    }\n",
       "\n",
       "    .dataframe thead th {\n",
       "        text-align: right;\n",
       "    }\n",
       "</style>\n",
       "<table border=\"1\" class=\"dataframe\">\n",
       "  <thead>\n",
       "    <tr style=\"text-align: right;\">\n",
       "      <th></th>\n",
       "      <th>date</th>\n",
       "      <th>nft</th>\n",
       "      <th>payment</th>\n",
       "      <th>buyer</th>\n",
       "      <th>seller</th>\n",
       "      <th>price</th>\n",
       "      <th>priceUsd</th>\n",
       "      <th>amountUsd</th>\n",
       "    </tr>\n",
       "  </thead>\n",
       "  <tbody>\n",
       "  </tbody>\n",
       "</table>\n",
       "</div>"
      ],
      "text/plain": [
       "Empty DataFrame\n",
       "Columns: [date, nft, payment, buyer, seller, price, priceUsd, amountUsd]\n",
       "Index: []"
      ]
     },
     "execution_count": 8,
     "metadata": {},
     "output_type": "execute_result"
    }
   ],
   "source": [
    "#Checking for difference in priceUsd and amountUsd\n",
    "\n",
    "sales.loc[sales.priceUsd != sales.amountUsd]"
   ]
  },
  {
   "cell_type": "code",
   "execution_count": 9,
   "id": "39b9d40b-3034-49a5-8627-903a7cce43db",
   "metadata": {},
   "outputs": [],
   "source": [
    "#dropping redundant columns\n",
    "\n",
    "sales = sales.drop(columns='amountUsd')"
   ]
  },
  {
   "cell_type": "code",
   "execution_count": 10,
   "id": "fb7bde1a-4958-4b26-9e19-b7a715560999",
   "metadata": {},
   "outputs": [
    {
     "name": "stdout",
     "output_type": "stream",
     "text": [
      "<class 'pandas.core.frame.DataFrame'>\n",
      "Int64Index: 19784 entries, 0 to 19783\n",
      "Data columns (total 7 columns):\n",
      " #   Column    Non-Null Count  Dtype              \n",
      "---  ------    --------------  -----              \n",
      " 0   date      19784 non-null  datetime64[ns, UTC]\n",
      " 1   nft       19784 non-null  int64              \n",
      " 2   payment   19784 non-null  object             \n",
      " 3   buyer     19784 non-null  object             \n",
      " 4   seller    19784 non-null  object             \n",
      " 5   price     19784 non-null  float64            \n",
      " 6   priceUsd  19784 non-null  float64            \n",
      "dtypes: datetime64[ns, UTC](1), float64(2), int64(1), object(3)\n",
      "memory usage: 1.7+ MB\n"
     ]
    }
   ],
   "source": [
    "#final check\n",
    "\n",
    "sales.info()"
   ]
  },
  {
   "cell_type": "code",
   "execution_count": 11,
   "id": "b427e26f-3aa3-41fe-994e-73b6b16e7fdc",
   "metadata": {},
   "outputs": [],
   "source": [
    "sales.to_csv('./data/clean_sales_data.csv', index=False)"
   ]
  }
 ],
 "metadata": {
  "kernelspec": {
   "display_name": "Python 3 (ipykernel)",
   "language": "python",
   "name": "python3"
  },
  "language_info": {
   "codemirror_mode": {
    "name": "ipython",
    "version": 3
   },
   "file_extension": ".py",
   "mimetype": "text/x-python",
   "name": "python",
   "nbconvert_exporter": "python",
   "pygments_lexer": "ipython3",
   "version": "3.9.7"
  }
 },
 "nbformat": 4,
 "nbformat_minor": 5
}
