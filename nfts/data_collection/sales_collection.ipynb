{
 "cells": [
  {
   "cell_type": "markdown",
   "id": "26b7807c-5615-440a-a0a1-1f36a8f9f011",
   "metadata": {},
   "source": [
    "#### Imports"
   ]
  },
  {
   "cell_type": "code",
   "execution_count": 1,
   "id": "ed1b7dfc-1c3f-436b-a8e6-5201b00ba5ae",
   "metadata": {},
   "outputs": [],
   "source": [
    "import requests\n",
    "import pandas as pd"
   ]
  },
  {
   "cell_type": "markdown",
   "id": "437b16ad-73b1-44f4-8036-364104b05eb7",
   "metadata": {},
   "source": [
    "#### Testing Trransaction Historry Scrape on 1 Token"
   ]
  },
  {
   "cell_type": "code",
   "execution_count": 2,
   "id": "43745865-18b2-47f2-83a8-6e3ac585c07b",
   "metadata": {},
   "outputs": [],
   "source": [
    "#pulling transactions for 1 sample token in collection:\n",
    "\n",
    "url='https://api.rarible.org/v0.1/activities/byItem'\n",
    "\n",
    "#mfers: '0x79fcdef22feed20eddacbb2587640e45491b757f'\n",
    "token_id=7510 #1-10_000\n",
    "collection_token='0x79fcdef22feed20eddacbb2587640e45491b757f'\n",
    "blockchain='ETHEREUM'\n",
    "\n",
    "params={\n",
    "    'type':['BID','SELL'],\n",
    "    'itemId':f'{blockchain}:{collection_token}:{token_id}',\n",
    "    'size':100,\n",
    "    'sort':'EARLIEST_FIRST'\n",
    "}"
   ]
  },
  {
   "cell_type": "code",
   "execution_count": 3,
   "id": "814ee186-5669-43fa-8afd-266e8a783460",
   "metadata": {},
   "outputs": [
    {
     "data": {
      "text/plain": [
       "200"
      ]
     },
     "execution_count": 3,
     "metadata": {},
     "output_type": "execute_result"
    }
   ],
   "source": [
    "#checking status_code\n",
    "\n",
    "res=requests.get(url, params)\n",
    "res.status_code"
   ]
  },
  {
   "cell_type": "code",
   "execution_count": 4,
   "id": "9707e768-2d51-47a6-932e-567da926866a",
   "metadata": {},
   "outputs": [
    {
     "data": {
      "text/plain": [
       "14"
      ]
     },
     "execution_count": 4,
     "metadata": {},
     "output_type": "execute_result"
    }
   ],
   "source": [
    "#how many transactions?\n",
    "\n",
    "len(res.json()['activities'])"
   ]
  },
  {
   "cell_type": "code",
   "execution_count": 5,
   "id": "0a9464b3-1cf5-4201-8ee4-1d67d507a868",
   "metadata": {
    "tags": []
   },
   "outputs": [],
   "source": [
    "#storing token transaction history \n",
    "\n",
    "txns = res.json()['activities']"
   ]
  },
  {
   "cell_type": "code",
   "execution_count": 6,
   "id": "b151f9f5-a497-4591-8938-d68b1ae73c2e",
   "metadata": {},
   "outputs": [
    {
     "name": "stdout",
     "output_type": "stream",
     "text": [
      "SELL\n",
      "BID\n",
      "BID\n",
      "BID\n",
      "BID\n",
      "CANCEL_LIST\n",
      "CANCEL_LIST\n",
      "BID\n",
      "SELL\n",
      "BID\n",
      "CANCEL_LIST\n",
      "CANCEL_LIST\n",
      "CANCEL_LIST\n",
      "SELL\n"
     ]
    }
   ],
   "source": [
    "#checking for BID's and SELL's only:\n",
    "\n",
    "for txn in txns:\n",
    "    print(txn['@type'])"
   ]
  },
  {
   "cell_type": "code",
   "execution_count": 8,
   "id": "6b73b216-e83a-43da-8136-5203df6459e6",
   "metadata": {},
   "outputs": [],
   "source": [
    "#addings BIDs to bids list SELLs to sells list:\n",
    "\n",
    "bids=[]\n",
    "sells=[]\n",
    "for i in range(len(txns)):\n",
    "    if txns[i]['@type'] == 'BID':\n",
    "        bids.append(txns[i])\n",
    "    elif txns[i]['@type']  == 'SELL':\n",
    "        sells.append(txns[i])"
   ]
  },
  {
   "cell_type": "code",
   "execution_count": 48,
   "id": "e086e510-a665-45e8-86f4-eab6e2e4aae2",
   "metadata": {
    "tags": []
   },
   "outputs": [
    {
     "data": {
      "text/html": [
       "<div>\n",
       "<style scoped>\n",
       "    .dataframe tbody tr th:only-of-type {\n",
       "        vertical-align: middle;\n",
       "    }\n",
       "\n",
       "    .dataframe tbody tr th {\n",
       "        vertical-align: top;\n",
       "    }\n",
       "\n",
       "    .dataframe thead th {\n",
       "        text-align: right;\n",
       "    }\n",
       "</style>\n",
       "<table border=\"1\" class=\"dataframe\">\n",
       "  <thead>\n",
       "    <tr style=\"text-align: right;\">\n",
       "      <th></th>\n",
       "      <th>@type</th>\n",
       "      <th>id</th>\n",
       "      <th>date</th>\n",
       "      <th>hash</th>\n",
       "      <th>maker</th>\n",
       "      <th>make</th>\n",
       "      <th>take</th>\n",
       "      <th>price</th>\n",
       "      <th>priceUsd</th>\n",
       "      <th>source</th>\n",
       "    </tr>\n",
       "  </thead>\n",
       "  <tbody>\n",
       "    <tr>\n",
       "      <th>0</th>\n",
       "      <td>BID</td>\n",
       "      <td>ETHEREUM:61fc98425fd60a6fad6095d1</td>\n",
       "      <td>2022-02-04T03:06:42.043Z</td>\n",
       "      <td>0xb26c6ff4ede2d61d1220de6f522890b9c6fbffd276e6...</td>\n",
       "      <td>ETHEREUM:0xbfb7cd3407a9b50f2f96c4d565612fc363c...</td>\n",
       "      <td>{'type': {'@type': 'ERC20', 'contract': 'ETHER...</td>\n",
       "      <td>{'type': {'@type': 'COLLECTION', 'contract': '...</td>\n",
       "      <td>0.014</td>\n",
       "      <td>37.5763779243965924</td>\n",
       "      <td>RARIBLE</td>\n",
       "    </tr>\n",
       "    <tr>\n",
       "      <th>1</th>\n",
       "      <td>BID</td>\n",
       "      <td>ETHEREUM:61fdadceb26cf347d76fcfcc</td>\n",
       "      <td>2022-02-04T22:50:54.323Z</td>\n",
       "      <td>0x0dc18cc39e83a6f9bac6a5aac79e991eb41208039a2f...</td>\n",
       "      <td>ETHEREUM:0x2ec44cd0da1f897e997699b6b0ab478cdb5...</td>\n",
       "      <td>{'type': {'@type': 'ERC20', 'contract': 'ETHER...</td>\n",
       "      <td>{'type': {'@type': 'COLLECTION', 'contract': '...</td>\n",
       "      <td>0.004</td>\n",
       "      <td>11.80123249611046</td>\n",
       "      <td>RARIBLE</td>\n",
       "    </tr>\n",
       "    <tr>\n",
       "      <th>2</th>\n",
       "      <td>BID</td>\n",
       "      <td>ETHEREUM:62014df71e61f742a10d7257</td>\n",
       "      <td>2022-02-07T16:51:03.864Z</td>\n",
       "      <td>0x0ed654bbe7ff2ac129a0be065f13920475850d91d2d5...</td>\n",
       "      <td>ETHEREUM:0x84a68bb45f41b75360338e98fc43367e682...</td>\n",
       "      <td>{'type': {'@type': 'ERC20', 'contract': 'ETHER...</td>\n",
       "      <td>{'type': {'@type': 'COLLECTION', 'contract': '...</td>\n",
       "      <td>0.2</td>\n",
       "      <td>625.4648191433756</td>\n",
       "      <td>RARIBLE</td>\n",
       "    </tr>\n",
       "  </tbody>\n",
       "</table>\n",
       "</div>"
      ],
      "text/plain": [
       "  @type                                 id                      date  \\\n",
       "0   BID  ETHEREUM:61fc98425fd60a6fad6095d1  2022-02-04T03:06:42.043Z   \n",
       "1   BID  ETHEREUM:61fdadceb26cf347d76fcfcc  2022-02-04T22:50:54.323Z   \n",
       "2   BID  ETHEREUM:62014df71e61f742a10d7257  2022-02-07T16:51:03.864Z   \n",
       "\n",
       "                                                hash  \\\n",
       "0  0xb26c6ff4ede2d61d1220de6f522890b9c6fbffd276e6...   \n",
       "1  0x0dc18cc39e83a6f9bac6a5aac79e991eb41208039a2f...   \n",
       "2  0x0ed654bbe7ff2ac129a0be065f13920475850d91d2d5...   \n",
       "\n",
       "                                               maker  \\\n",
       "0  ETHEREUM:0xbfb7cd3407a9b50f2f96c4d565612fc363c...   \n",
       "1  ETHEREUM:0x2ec44cd0da1f897e997699b6b0ab478cdb5...   \n",
       "2  ETHEREUM:0x84a68bb45f41b75360338e98fc43367e682...   \n",
       "\n",
       "                                                make  \\\n",
       "0  {'type': {'@type': 'ERC20', 'contract': 'ETHER...   \n",
       "1  {'type': {'@type': 'ERC20', 'contract': 'ETHER...   \n",
       "2  {'type': {'@type': 'ERC20', 'contract': 'ETHER...   \n",
       "\n",
       "                                                take  price  \\\n",
       "0  {'type': {'@type': 'COLLECTION', 'contract': '...  0.014   \n",
       "1  {'type': {'@type': 'COLLECTION', 'contract': '...  0.004   \n",
       "2  {'type': {'@type': 'COLLECTION', 'contract': '...    0.2   \n",
       "\n",
       "              priceUsd   source  \n",
       "0  37.5763779243965924  RARIBLE  \n",
       "1    11.80123249611046  RARIBLE  \n",
       "2    625.4648191433756  RARIBLE  "
      ]
     },
     "execution_count": 48,
     "metadata": {},
     "output_type": "execute_result"
    }
   ],
   "source": [
    "#placing sample transactions in dataframes:\n",
    "\n",
    "bids_df = pd.DataFrame(bids)\n",
    "bids_df.head(3)"
   ]
  },
  {
   "cell_type": "code",
   "execution_count": 49,
   "id": "fa4376b1-5d16-4e37-b4a8-3817ad441895",
   "metadata": {
    "tags": []
   },
   "outputs": [
    {
     "data": {
      "text/html": [
       "<div>\n",
       "<style scoped>\n",
       "    .dataframe tbody tr th:only-of-type {\n",
       "        vertical-align: middle;\n",
       "    }\n",
       "\n",
       "    .dataframe tbody tr th {\n",
       "        vertical-align: top;\n",
       "    }\n",
       "\n",
       "    .dataframe thead th {\n",
       "        text-align: right;\n",
       "    }\n",
       "</style>\n",
       "<table border=\"1\" class=\"dataframe\">\n",
       "  <thead>\n",
       "    <tr style=\"text-align: right;\">\n",
       "      <th></th>\n",
       "      <th>@type</th>\n",
       "      <th>source</th>\n",
       "      <th>transactionHash</th>\n",
       "      <th>blockchainInfo</th>\n",
       "      <th>id</th>\n",
       "      <th>date</th>\n",
       "      <th>nft</th>\n",
       "      <th>payment</th>\n",
       "      <th>buyer</th>\n",
       "      <th>seller</th>\n",
       "      <th>buyerOrderHash</th>\n",
       "      <th>sellerOrderHash</th>\n",
       "      <th>price</th>\n",
       "      <th>priceUsd</th>\n",
       "      <th>amountUsd</th>\n",
       "      <th>type</th>\n",
       "    </tr>\n",
       "  </thead>\n",
       "  <tbody>\n",
       "    <tr>\n",
       "      <th>0</th>\n",
       "      <td>SELL</td>\n",
       "      <td>OPEN_SEA</td>\n",
       "      <td>0x74e9c3dfdd5bd5254e6ba22ab48f41e0f3011e5fe728...</td>\n",
       "      <td>{'transactionHash': '0x74e9c3dfdd5bd5254e6ba22...</td>\n",
       "      <td>ETHEREUM:61f89dd0adf8693a8fb1a634</td>\n",
       "      <td>2022-02-01T02:40:41Z</td>\n",
       "      <td>{'type': {'@type': 'ERC721', 'contract': 'ETHE...</td>\n",
       "      <td>{'type': {'@type': 'ETH', 'blockchain': 'ETHER...</td>\n",
       "      <td>ETHEREUM:0x5732013a1dbafe45dc65b92c8d5f43bc4ca...</td>\n",
       "      <td>ETHEREUM:0xa32fcc1b3d4e2b597cf626f98228e68b63e...</td>\n",
       "      <td>0x9fa0f430ffbd62365dc20bbf59b701e66f99e5228bc9...</td>\n",
       "      <td>0x988dfb56a0fe1ec4ff787c3f940f4b952fc30e88b63f...</td>\n",
       "      <td>0.777</td>\n",
       "      <td>2390.862465566956311</td>\n",
       "      <td>2390.862465566956311</td>\n",
       "      <td>SELL</td>\n",
       "    </tr>\n",
       "    <tr>\n",
       "      <th>1</th>\n",
       "      <td>SELL</td>\n",
       "      <td>OPEN_SEA</td>\n",
       "      <td>0x36c46feacf48ad3fba6cdc4059f159b17fb53986e882...</td>\n",
       "      <td>{'transactionHash': '0x36c46feacf48ad3fba6cdc4...</td>\n",
       "      <td>ETHEREUM:6205e6ac138e1401c40d1f29</td>\n",
       "      <td>2022-02-11T04:30:42Z</td>\n",
       "      <td>{'type': {'@type': 'ERC721', 'contract': 'ETHE...</td>\n",
       "      <td>{'type': {'@type': 'ETH', 'blockchain': 'ETHER...</td>\n",
       "      <td>ETHEREUM:0x0a9931ab317d8398e7316f7889f6ca39de3...</td>\n",
       "      <td>ETHEREUM:0x5732013a1dbafe45dc65b92c8d5f43bc4ca...</td>\n",
       "      <td>0x7bfc19b24c9e9d0b16e3a7e4d63d870f7e3eb6045eb7...</td>\n",
       "      <td>0xb23fe91bc7e814df7e5d55592e8df563ce61f3409f1b...</td>\n",
       "      <td>1.69</td>\n",
       "      <td>4267.48942193427048</td>\n",
       "      <td>4267.48942193427048</td>\n",
       "      <td>SELL</td>\n",
       "    </tr>\n",
       "    <tr>\n",
       "      <th>2</th>\n",
       "      <td>SELL</td>\n",
       "      <td>OPEN_SEA</td>\n",
       "      <td>0x859fb8acc9141cb2d69f4188d150266045153d5d38bb...</td>\n",
       "      <td>{'transactionHash': '0x859fb8acc9141cb2d69f418...</td>\n",
       "      <td>ETHEREUM:6217af8a330a84056a453b6a</td>\n",
       "      <td>2022-02-24T16:16:08Z</td>\n",
       "      <td>{'type': {'@type': 'ERC721', 'contract': 'ETHE...</td>\n",
       "      <td>{'type': {'@type': 'ETH', 'blockchain': 'ETHER...</td>\n",
       "      <td>ETHEREUM:0xcda73f6a6c249c080281853c6795604331c...</td>\n",
       "      <td>ETHEREUM:0x0a9931ab317d8398e7316f7889f6ca39de3...</td>\n",
       "      <td>0x59a849064a6a1a8cdc4f1b02d56310f3036c29b4b69c...</td>\n",
       "      <td>0xa92407801e67d5debd364479ea2dc04047a744eb1d07...</td>\n",
       "      <td>3.469</td>\n",
       "      <td>8461.4900510612750457</td>\n",
       "      <td>8461.4900510612750457</td>\n",
       "      <td>SELL</td>\n",
       "    </tr>\n",
       "  </tbody>\n",
       "</table>\n",
       "</div>"
      ],
      "text/plain": [
       "  @type    source                                    transactionHash  \\\n",
       "0  SELL  OPEN_SEA  0x74e9c3dfdd5bd5254e6ba22ab48f41e0f3011e5fe728...   \n",
       "1  SELL  OPEN_SEA  0x36c46feacf48ad3fba6cdc4059f159b17fb53986e882...   \n",
       "2  SELL  OPEN_SEA  0x859fb8acc9141cb2d69f4188d150266045153d5d38bb...   \n",
       "\n",
       "                                      blockchainInfo  \\\n",
       "0  {'transactionHash': '0x74e9c3dfdd5bd5254e6ba22...   \n",
       "1  {'transactionHash': '0x36c46feacf48ad3fba6cdc4...   \n",
       "2  {'transactionHash': '0x859fb8acc9141cb2d69f418...   \n",
       "\n",
       "                                  id                  date  \\\n",
       "0  ETHEREUM:61f89dd0adf8693a8fb1a634  2022-02-01T02:40:41Z   \n",
       "1  ETHEREUM:6205e6ac138e1401c40d1f29  2022-02-11T04:30:42Z   \n",
       "2  ETHEREUM:6217af8a330a84056a453b6a  2022-02-24T16:16:08Z   \n",
       "\n",
       "                                                 nft  \\\n",
       "0  {'type': {'@type': 'ERC721', 'contract': 'ETHE...   \n",
       "1  {'type': {'@type': 'ERC721', 'contract': 'ETHE...   \n",
       "2  {'type': {'@type': 'ERC721', 'contract': 'ETHE...   \n",
       "\n",
       "                                             payment  \\\n",
       "0  {'type': {'@type': 'ETH', 'blockchain': 'ETHER...   \n",
       "1  {'type': {'@type': 'ETH', 'blockchain': 'ETHER...   \n",
       "2  {'type': {'@type': 'ETH', 'blockchain': 'ETHER...   \n",
       "\n",
       "                                               buyer  \\\n",
       "0  ETHEREUM:0x5732013a1dbafe45dc65b92c8d5f43bc4ca...   \n",
       "1  ETHEREUM:0x0a9931ab317d8398e7316f7889f6ca39de3...   \n",
       "2  ETHEREUM:0xcda73f6a6c249c080281853c6795604331c...   \n",
       "\n",
       "                                              seller  \\\n",
       "0  ETHEREUM:0xa32fcc1b3d4e2b597cf626f98228e68b63e...   \n",
       "1  ETHEREUM:0x5732013a1dbafe45dc65b92c8d5f43bc4ca...   \n",
       "2  ETHEREUM:0x0a9931ab317d8398e7316f7889f6ca39de3...   \n",
       "\n",
       "                                      buyerOrderHash  \\\n",
       "0  0x9fa0f430ffbd62365dc20bbf59b701e66f99e5228bc9...   \n",
       "1  0x7bfc19b24c9e9d0b16e3a7e4d63d870f7e3eb6045eb7...   \n",
       "2  0x59a849064a6a1a8cdc4f1b02d56310f3036c29b4b69c...   \n",
       "\n",
       "                                     sellerOrderHash  price  \\\n",
       "0  0x988dfb56a0fe1ec4ff787c3f940f4b952fc30e88b63f...  0.777   \n",
       "1  0xb23fe91bc7e814df7e5d55592e8df563ce61f3409f1b...   1.69   \n",
       "2  0xa92407801e67d5debd364479ea2dc04047a744eb1d07...  3.469   \n",
       "\n",
       "                priceUsd              amountUsd  type  \n",
       "0   2390.862465566956311   2390.862465566956311  SELL  \n",
       "1    4267.48942193427048    4267.48942193427048  SELL  \n",
       "2  8461.4900510612750457  8461.4900510612750457  SELL  "
      ]
     },
     "execution_count": 49,
     "metadata": {},
     "output_type": "execute_result"
    }
   ],
   "source": [
    "sells_df = pd.DataFrame(sells)\n",
    "sells_df.head(3)"
   ]
  },
  {
   "cell_type": "markdown",
   "id": "7638906b-da85-4e23-b5fb-1938f6b899d8",
   "metadata": {},
   "source": [
    "----"
   ]
  },
  {
   "cell_type": "markdown",
   "id": "c3010029-37f1-47f3-ba29-c85ba547411a",
   "metadata": {},
   "source": [
    "#### Scraping Transaction History for All Tokens in Collection"
   ]
  },
  {
   "cell_type": "code",
   "execution_count": 11,
   "id": "916e9bb9-0e2e-4b2f-a833-83ea4fa0718e",
   "metadata": {},
   "outputs": [],
   "source": [
    "def transactions_scraper(collection_contract_token):\n",
    "    #setting up token_id iteration and creating blank bids & sells list\n",
    "    bid_list = []\n",
    "    sale_list = []\n",
    "    \n",
    "    #creating requests loop to run thru token_id #1-10_000\n",
    "    for n in range(1,10_001):\n",
    "        token_id=n\n",
    "        url = 'https://api.rarible.org/v0.1/activities/byItem'\n",
    "        blockchain = 'ETHEREUM'\n",
    "        params={\n",
    "        'type':['BID','SELL'], \n",
    "        'itemId':f'{blockchain}:{collection_contract_token}:{token_id}',\n",
    "        'size':100,\n",
    "        'sort':'EARLIEST_FIRST'\n",
    "        }\n",
    "        res = requests.get(url, params)\n",
    "        if res.status_code != 200:\n",
    "            print(f'{res.status_code} error thrown at token_id={n}.')\n",
    "        else:\n",
    "            pass\n",
    "        \n",
    "        #storing token transaction history \n",
    "        txns = res.json()['activities']\n",
    "        \n",
    "        #addings BIDs to bids list & SELLs to sells list:\n",
    "        for i in range(len(txns)):\n",
    "            if txns[i]['@type'] == 'BID':\n",
    "                bid_list.append(txns[i])\n",
    "            elif txns[i]['@type']  == 'SELL':\n",
    "                sale_list.append(txns[i])\n",
    "                \n",
    "        #status updates:       \n",
    "        if n % 500==0:\n",
    "            print(f'fx has scraped {n} tokens...')\n",
    "            \n",
    "    #storing list data in pandas df\n",
    "    df1 = pd.DataFrame(bid_list)\n",
    "    df2 = pd.DataFrame(sale_list)\n",
    "    return df1, df2\n"
   ]
  },
  {
   "cell_type": "code",
   "execution_count": 12,
   "id": "1e53718f-3f31-411a-be69-517fd22263d0",
   "metadata": {
    "tags": []
   },
   "outputs": [
    {
     "name": "stdout",
     "output_type": "stream",
     "text": [
      "fx has scraped 500 tokens...\n",
      "fx has scraped 1000 tokens...\n",
      "fx has scraped 1500 tokens...\n",
      "fx has scraped 2000 tokens...\n",
      "fx has scraped 2500 tokens...\n",
      "fx has scraped 3000 tokens...\n",
      "fx has scraped 3500 tokens...\n",
      "fx has scraped 4000 tokens...\n",
      "fx has scraped 4500 tokens...\n",
      "fx has scraped 5000 tokens...\n",
      "fx has scraped 5500 tokens...\n",
      "fx has scraped 6000 tokens...\n",
      "fx has scraped 6500 tokens...\n",
      "fx has scraped 7000 tokens...\n",
      "fx has scraped 7500 tokens...\n",
      "fx has scraped 8000 tokens...\n",
      "fx has scraped 8500 tokens...\n",
      "fx has scraped 9000 tokens...\n",
      "fx has scraped 9500 tokens...\n",
      "fx has scraped 10000 tokens...\n"
     ]
    }
   ],
   "source": [
    "#attempting scrape w/function\n",
    "\n",
    "mfers_contract = '0x79fcdef22feed20eddacbb2587640e45491b757f'\n",
    "\n",
    "bids, sales = transactions_scraper(mfers_contract)"
   ]
  },
  {
   "cell_type": "code",
   "execution_count": 21,
   "id": "693403d8-d062-4640-8a6a-46d455045ec3",
   "metadata": {
    "collapsed": true,
    "jupyter": {
     "outputs_hidden": true
    },
    "tags": []
   },
   "outputs": [
    {
     "data": {
      "text/html": [
       "<div>\n",
       "<style scoped>\n",
       "    .dataframe tbody tr th:only-of-type {\n",
       "        vertical-align: middle;\n",
       "    }\n",
       "\n",
       "    .dataframe tbody tr th {\n",
       "        vertical-align: top;\n",
       "    }\n",
       "\n",
       "    .dataframe thead th {\n",
       "        text-align: right;\n",
       "    }\n",
       "</style>\n",
       "<table border=\"1\" class=\"dataframe\">\n",
       "  <thead>\n",
       "    <tr style=\"text-align: right;\">\n",
       "      <th></th>\n",
       "      <th>@type</th>\n",
       "      <th>id</th>\n",
       "      <th>date</th>\n",
       "      <th>hash</th>\n",
       "      <th>maker</th>\n",
       "      <th>make</th>\n",
       "      <th>take</th>\n",
       "      <th>price</th>\n",
       "      <th>priceUsd</th>\n",
       "      <th>source</th>\n",
       "    </tr>\n",
       "  </thead>\n",
       "  <tbody>\n",
       "    <tr>\n",
       "      <th>0</th>\n",
       "      <td>BID</td>\n",
       "      <td>ETHEREUM:61fc98425fd60a6fad6095d1</td>\n",
       "      <td>2022-02-04T03:06:42.043Z</td>\n",
       "      <td>0xb26c6ff4ede2d61d1220de6f522890b9c6fbffd276e6...</td>\n",
       "      <td>ETHEREUM:0xbfb7cd3407a9b50f2f96c4d565612fc363c...</td>\n",
       "      <td>{'type': {'@type': 'ERC20', 'contract': 'ETHER...</td>\n",
       "      <td>{'type': {'@type': 'COLLECTION', 'contract': '...</td>\n",
       "      <td>0.014</td>\n",
       "      <td>37.5763779243965924</td>\n",
       "      <td>RARIBLE</td>\n",
       "    </tr>\n",
       "    <tr>\n",
       "      <th>1</th>\n",
       "      <td>BID</td>\n",
       "      <td>ETHEREUM:61fdadceb26cf347d76fcfcc</td>\n",
       "      <td>2022-02-04T22:50:54.323Z</td>\n",
       "      <td>0x0dc18cc39e83a6f9bac6a5aac79e991eb41208039a2f...</td>\n",
       "      <td>ETHEREUM:0x2ec44cd0da1f897e997699b6b0ab478cdb5...</td>\n",
       "      <td>{'type': {'@type': 'ERC20', 'contract': 'ETHER...</td>\n",
       "      <td>{'type': {'@type': 'COLLECTION', 'contract': '...</td>\n",
       "      <td>0.004</td>\n",
       "      <td>11.80123249611046</td>\n",
       "      <td>RARIBLE</td>\n",
       "    </tr>\n",
       "  </tbody>\n",
       "</table>\n",
       "</div>"
      ],
      "text/plain": [
       "  @type                                 id                      date  \\\n",
       "0   BID  ETHEREUM:61fc98425fd60a6fad6095d1  2022-02-04T03:06:42.043Z   \n",
       "1   BID  ETHEREUM:61fdadceb26cf347d76fcfcc  2022-02-04T22:50:54.323Z   \n",
       "\n",
       "                                                hash  \\\n",
       "0  0xb26c6ff4ede2d61d1220de6f522890b9c6fbffd276e6...   \n",
       "1  0x0dc18cc39e83a6f9bac6a5aac79e991eb41208039a2f...   \n",
       "\n",
       "                                               maker  \\\n",
       "0  ETHEREUM:0xbfb7cd3407a9b50f2f96c4d565612fc363c...   \n",
       "1  ETHEREUM:0x2ec44cd0da1f897e997699b6b0ab478cdb5...   \n",
       "\n",
       "                                                make  \\\n",
       "0  {'type': {'@type': 'ERC20', 'contract': 'ETHER...   \n",
       "1  {'type': {'@type': 'ERC20', 'contract': 'ETHER...   \n",
       "\n",
       "                                                take  price  \\\n",
       "0  {'type': {'@type': 'COLLECTION', 'contract': '...  0.014   \n",
       "1  {'type': {'@type': 'COLLECTION', 'contract': '...  0.004   \n",
       "\n",
       "              priceUsd   source  \n",
       "0  37.5763779243965924  RARIBLE  \n",
       "1    11.80123249611046  RARIBLE  "
      ]
     },
     "execution_count": 21,
     "metadata": {},
     "output_type": "execute_result"
    }
   ],
   "source": [
    "bids.head(2)"
   ]
  },
  {
   "cell_type": "code",
   "execution_count": 15,
   "id": "b24971ee-616c-457f-8bc3-8bcc3cd79eaa",
   "metadata": {
    "collapsed": true,
    "jupyter": {
     "outputs_hidden": true
    },
    "tags": []
   },
   "outputs": [
    {
     "name": "stdout",
     "output_type": "stream",
     "text": [
      "<class 'pandas.core.frame.DataFrame'>\n",
      "RangeIndex: 60016 entries, 0 to 60015\n",
      "Data columns (total 10 columns):\n",
      " #   Column    Non-Null Count  Dtype \n",
      "---  ------    --------------  ----- \n",
      " 0   @type     60016 non-null  object\n",
      " 1   id        60016 non-null  object\n",
      " 2   date      60016 non-null  object\n",
      " 3   hash      60016 non-null  object\n",
      " 4   maker     60016 non-null  object\n",
      " 5   make      60016 non-null  object\n",
      " 6   take      60016 non-null  object\n",
      " 7   price     60016 non-null  object\n",
      " 8   priceUsd  60009 non-null  object\n",
      " 9   source    60016 non-null  object\n",
      "dtypes: object(10)\n",
      "memory usage: 4.6+ MB\n"
     ]
    }
   ],
   "source": [
    "bids.info()"
   ]
  },
  {
   "cell_type": "code",
   "execution_count": 22,
   "id": "28d0e52c-96db-4003-b516-dafb6c62f083",
   "metadata": {},
   "outputs": [
    {
     "data": {
      "text/html": [
       "<div>\n",
       "<style scoped>\n",
       "    .dataframe tbody tr th:only-of-type {\n",
       "        vertical-align: middle;\n",
       "    }\n",
       "\n",
       "    .dataframe tbody tr th {\n",
       "        vertical-align: top;\n",
       "    }\n",
       "\n",
       "    .dataframe thead th {\n",
       "        text-align: right;\n",
       "    }\n",
       "</style>\n",
       "<table border=\"1\" class=\"dataframe\">\n",
       "  <thead>\n",
       "    <tr style=\"text-align: right;\">\n",
       "      <th></th>\n",
       "      <th>@type</th>\n",
       "      <th>source</th>\n",
       "      <th>transactionHash</th>\n",
       "      <th>blockchainInfo</th>\n",
       "      <th>id</th>\n",
       "      <th>date</th>\n",
       "      <th>nft</th>\n",
       "      <th>payment</th>\n",
       "      <th>buyer</th>\n",
       "      <th>seller</th>\n",
       "      <th>buyerOrderHash</th>\n",
       "      <th>sellerOrderHash</th>\n",
       "      <th>price</th>\n",
       "      <th>priceUsd</th>\n",
       "      <th>amountUsd</th>\n",
       "      <th>type</th>\n",
       "    </tr>\n",
       "  </thead>\n",
       "  <tbody>\n",
       "    <tr>\n",
       "      <th>0</th>\n",
       "      <td>SELL</td>\n",
       "      <td>OPEN_SEA</td>\n",
       "      <td>0x1f949be807ddd05d5fdd069208b17faf7e72be35ca29...</td>\n",
       "      <td>{'transactionHash': '0x1f949be807ddd05d5fdd069...</td>\n",
       "      <td>ETHEREUM:62108454ab6abc740feb090b</td>\n",
       "      <td>2022-02-19T05:46:20Z</td>\n",
       "      <td>{'type': {'@type': 'ERC721', 'contract': 'ETHE...</td>\n",
       "      <td>{'type': {'@type': 'ETH', 'blockchain': 'ETHER...</td>\n",
       "      <td>ETHEREUM:0x6365398036d4ef045254fce2e525ac59760...</td>\n",
       "      <td>ETHEREUM:0xe6fe14a30631b22d3f78d9ec7869eb62d6e...</td>\n",
       "      <td>0x21e8db42ec7ed562eb0990c07529c6cf5612cbf70eaf...</td>\n",
       "      <td>0xf4ca148cdb29bff57ed1901a4ff690ac21d2c3dc0630...</td>\n",
       "      <td>3.3</td>\n",
       "      <td>8370.46285277911104</td>\n",
       "      <td>8370.46285277911104</td>\n",
       "      <td>SELL</td>\n",
       "    </tr>\n",
       "    <tr>\n",
       "      <th>1</th>\n",
       "      <td>SELL</td>\n",
       "      <td>OPEN_SEA</td>\n",
       "      <td>0x58c3e7d536aefdefd50cba425dd18555e5bf80fab379...</td>\n",
       "      <td>{'transactionHash': '0x58c3e7d536aefdefd50cba4...</td>\n",
       "      <td>ETHEREUM:6216ea6bbcd9e83f039385dc</td>\n",
       "      <td>2022-02-24T02:15:15Z</td>\n",
       "      <td>{'type': {'@type': 'ERC721', 'contract': 'ETHE...</td>\n",
       "      <td>{'type': {'@type': 'ETH', 'blockchain': 'ETHER...</td>\n",
       "      <td>ETHEREUM:0xcb4652bb0396880c3b2609d5a37e19df731...</td>\n",
       "      <td>ETHEREUM:0x6365398036d4ef045254fce2e525ac59760...</td>\n",
       "      <td>0x6e9a342203d6705fd2d521ff02d89f5249473765f102...</td>\n",
       "      <td>0xb0ca5248d2577a9cf92e8ea1967df2de1adfc67a6cf2...</td>\n",
       "      <td>3.75</td>\n",
       "      <td>9653.74896159330675</td>\n",
       "      <td>9653.74896159330675</td>\n",
       "      <td>SELL</td>\n",
       "    </tr>\n",
       "  </tbody>\n",
       "</table>\n",
       "</div>"
      ],
      "text/plain": [
       "  @type    source                                    transactionHash  \\\n",
       "0  SELL  OPEN_SEA  0x1f949be807ddd05d5fdd069208b17faf7e72be35ca29...   \n",
       "1  SELL  OPEN_SEA  0x58c3e7d536aefdefd50cba425dd18555e5bf80fab379...   \n",
       "\n",
       "                                      blockchainInfo  \\\n",
       "0  {'transactionHash': '0x1f949be807ddd05d5fdd069...   \n",
       "1  {'transactionHash': '0x58c3e7d536aefdefd50cba4...   \n",
       "\n",
       "                                  id                  date  \\\n",
       "0  ETHEREUM:62108454ab6abc740feb090b  2022-02-19T05:46:20Z   \n",
       "1  ETHEREUM:6216ea6bbcd9e83f039385dc  2022-02-24T02:15:15Z   \n",
       "\n",
       "                                                 nft  \\\n",
       "0  {'type': {'@type': 'ERC721', 'contract': 'ETHE...   \n",
       "1  {'type': {'@type': 'ERC721', 'contract': 'ETHE...   \n",
       "\n",
       "                                             payment  \\\n",
       "0  {'type': {'@type': 'ETH', 'blockchain': 'ETHER...   \n",
       "1  {'type': {'@type': 'ETH', 'blockchain': 'ETHER...   \n",
       "\n",
       "                                               buyer  \\\n",
       "0  ETHEREUM:0x6365398036d4ef045254fce2e525ac59760...   \n",
       "1  ETHEREUM:0xcb4652bb0396880c3b2609d5a37e19df731...   \n",
       "\n",
       "                                              seller  \\\n",
       "0  ETHEREUM:0xe6fe14a30631b22d3f78d9ec7869eb62d6e...   \n",
       "1  ETHEREUM:0x6365398036d4ef045254fce2e525ac59760...   \n",
       "\n",
       "                                      buyerOrderHash  \\\n",
       "0  0x21e8db42ec7ed562eb0990c07529c6cf5612cbf70eaf...   \n",
       "1  0x6e9a342203d6705fd2d521ff02d89f5249473765f102...   \n",
       "\n",
       "                                     sellerOrderHash price  \\\n",
       "0  0xf4ca148cdb29bff57ed1901a4ff690ac21d2c3dc0630...   3.3   \n",
       "1  0xb0ca5248d2577a9cf92e8ea1967df2de1adfc67a6cf2...  3.75   \n",
       "\n",
       "              priceUsd            amountUsd  type  \n",
       "0  8370.46285277911104  8370.46285277911104  SELL  \n",
       "1  9653.74896159330675  9653.74896159330675  SELL  "
      ]
     },
     "execution_count": 22,
     "metadata": {},
     "output_type": "execute_result"
    }
   ],
   "source": [
    "sales.head(2)"
   ]
  },
  {
   "cell_type": "code",
   "execution_count": 16,
   "id": "9ca648d8-21a9-471d-bc21-b1faeff8f872",
   "metadata": {},
   "outputs": [
    {
     "name": "stdout",
     "output_type": "stream",
     "text": [
      "<class 'pandas.core.frame.DataFrame'>\n",
      "RangeIndex: 19784 entries, 0 to 19783\n",
      "Data columns (total 16 columns):\n",
      " #   Column           Non-Null Count  Dtype \n",
      "---  ------           --------------  ----- \n",
      " 0   @type            19784 non-null  object\n",
      " 1   source           19784 non-null  object\n",
      " 2   transactionHash  19784 non-null  object\n",
      " 3   blockchainInfo   19784 non-null  object\n",
      " 4   id               19784 non-null  object\n",
      " 5   date             19784 non-null  object\n",
      " 6   nft              19784 non-null  object\n",
      " 7   payment          19784 non-null  object\n",
      " 8   buyer            19784 non-null  object\n",
      " 9   seller           19784 non-null  object\n",
      " 10  buyerOrderHash   19784 non-null  object\n",
      " 11  sellerOrderHash  19784 non-null  object\n",
      " 12  price            19784 non-null  object\n",
      " 13  priceUsd         19784 non-null  object\n",
      " 14  amountUsd        19784 non-null  object\n",
      " 15  type             19784 non-null  object\n",
      "dtypes: object(16)\n",
      "memory usage: 2.4+ MB\n"
     ]
    }
   ],
   "source": [
    "sales.info()"
   ]
  },
  {
   "cell_type": "code",
   "execution_count": 17,
   "id": "c7525333-dd4f-4fc5-a2f1-b480f40fa75d",
   "metadata": {},
   "outputs": [],
   "source": [
    "bids.to_csv('./data/bids_raw.csv')"
   ]
  },
  {
   "cell_type": "code",
   "execution_count": 18,
   "id": "da1ea5e2-4184-4dad-aa28-0fba13beb386",
   "metadata": {},
   "outputs": [],
   "source": [
    "sales.to_csv('./data/sales_raw.csv')"
   ]
  },
  {
   "cell_type": "markdown",
   "id": "8d438e1f-b87e-471a-b17b-ed224c8884af",
   "metadata": {},
   "source": [
    "----"
   ]
  }
 ],
 "metadata": {
  "kernelspec": {
   "display_name": "Python 3 (ipykernel)",
   "language": "python",
   "name": "python3"
  },
  "language_info": {
   "codemirror_mode": {
    "name": "ipython",
    "version": 3
   },
   "file_extension": ".py",
   "mimetype": "text/x-python",
   "name": "python",
   "nbconvert_exporter": "python",
   "pygments_lexer": "ipython3",
   "version": "3.9.7"
  }
 },
 "nbformat": 4,
 "nbformat_minor": 5
}
