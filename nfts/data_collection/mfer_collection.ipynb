{
 "cells": [
  {
   "cell_type": "markdown",
   "id": "4f6bea40-3e2c-4927-89dc-eeb0d33720fd",
   "metadata": {},
   "source": [
    "#### Imports"
   ]
  },
  {
   "cell_type": "code",
   "execution_count": 1,
   "id": "167593f6-1099-4059-a9d3-e528d8f2eef6",
   "metadata": {},
   "outputs": [],
   "source": [
    "import requests\n",
    "import pandas as pd"
   ]
  },
  {
   "cell_type": "markdown",
   "id": "315c1f3d-7a00-4794-9b91-fda6c9830af4",
   "metadata": {},
   "source": [
    "----"
   ]
  },
  {
   "cell_type": "markdown",
   "id": "7f1293b2-4c45-4af8-979e-8137e413c97e",
   "metadata": {},
   "source": [
    "#### Collecting Asset Objects to Gather Attributes for Each Token"
   ]
  },
  {
   "cell_type": "code",
   "execution_count": 13,
   "id": "5a94bf42-04fb-418c-afb0-707fe0b85cbc",
   "metadata": {},
   "outputs": [],
   "source": [
    "def asset_scraper(collection_contract_token):\n",
    "    #creating blank asset objects list\n",
    "    assets = []\n",
    "    \n",
    "    #creating requests loop to run thru token_id #1-10_000\n",
    "    for n in range(1,10_001):\n",
    "        token_id=n\n",
    "        blockchain = 'ETHEREUM'\n",
    "        url = f'https://api.rarible.org/v0.1/items/{blockchain}:{collection_contract_token}:{token_id}'\n",
    "        \n",
    "        #making request\n",
    "        res = requests.get(url)\n",
    "        if res.status_code != 200:\n",
    "            print(f'{res.status_code} error thrown at token_id={n}.')\n",
    "        else:\n",
    "            pass\n",
    "        \n",
    "        #storing single asset meta data\n",
    "        asset = res.json()['meta']\n",
    "        \n",
    "        #adding asset objects to assets list\n",
    "        assets.append(asset)\n",
    "        \n",
    "        #status updates:\n",
    "        if n % 500==0:\n",
    "            print(f'fx has scraped {n} tokens...')\n",
    "        \n",
    "    return assets"
   ]
  },
  {
   "cell_type": "code",
   "execution_count": 14,
   "id": "a2badc6e-8457-4f5b-8e6b-6392baa55650",
   "metadata": {},
   "outputs": [
    {
     "name": "stdout",
     "output_type": "stream",
     "text": [
      "fx has scraped 500 tokens...\n",
      "fx has scraped 1000 tokens...\n",
      "fx has scraped 1500 tokens...\n",
      "fx has scraped 2000 tokens...\n",
      "fx has scraped 2500 tokens...\n",
      "fx has scraped 3000 tokens...\n",
      "fx has scraped 3500 tokens...\n",
      "fx has scraped 4000 tokens...\n",
      "fx has scraped 4500 tokens...\n",
      "fx has scraped 5000 tokens...\n",
      "fx has scraped 5500 tokens...\n",
      "fx has scraped 6000 tokens...\n",
      "fx has scraped 6500 tokens...\n",
      "fx has scraped 7000 tokens...\n",
      "fx has scraped 7500 tokens...\n",
      "fx has scraped 8000 tokens...\n",
      "fx has scraped 8500 tokens...\n",
      "fx has scraped 9000 tokens...\n",
      "fx has scraped 9500 tokens...\n",
      "fx has scraped 10000 tokens...\n"
     ]
    }
   ],
   "source": [
    "#attempting scrape w/function\n",
    "\n",
    "mfers_contract = '0x79fcdef22feed20eddacbb2587640e45491b757f'\n",
    "mfers = asset_scraper(mfers_contract)"
   ]
  },
  {
   "cell_type": "code",
   "execution_count": 18,
   "id": "9aec0d4e-20ac-44fa-88fb-2441bf5107d7",
   "metadata": {},
   "outputs": [
    {
     "data": {
      "text/plain": [
       "10000"
      ]
     },
     "execution_count": 18,
     "metadata": {},
     "output_type": "execute_result"
    }
   ],
   "source": [
    "len(mfers)"
   ]
  },
  {
   "cell_type": "code",
   "execution_count": 19,
   "id": "9fdc8db4-64f8-4dd1-af1f-549d17a6aad9",
   "metadata": {},
   "outputs": [],
   "source": [
    "#pickling scraped attributes list for use later\n",
    "import pickle \n",
    "\n",
    "#storing/serializing list data\n",
    "with open ('attributes.pkl', 'wb') as handle:\n",
    "    pickle.dump(mfers, handle, protocol=pickle.HIGHEST_PROTOCOL)"
   ]
  }
 ],
 "metadata": {
  "kernelspec": {
   "display_name": "Python 3 (ipykernel)",
   "language": "python",
   "name": "python3"
  },
  "language_info": {
   "codemirror_mode": {
    "name": "ipython",
    "version": 3
   },
   "file_extension": ".py",
   "mimetype": "text/x-python",
   "name": "python",
   "nbconvert_exporter": "python",
   "pygments_lexer": "ipython3",
   "version": "3.9.7"
  }
 },
 "nbformat": 4,
 "nbformat_minor": 5
}
